{
 "cells": [
  {
   "cell_type": "code",
   "execution_count": 2,
   "metadata": {
    "id": "M1VBJbQPqg28"
   },
   "outputs": [
    {
     "name": "stderr",
     "output_type": "stream",
     "text": [
      "Using TensorFlow backend.\n"
     ]
    }
   ],
   "source": [
    "import numpy as np\n",
    "import pandas as pd\n",
    "import random\n",
    "import os\n",
    "from sklearn import preprocessing\n",
    "from sklearn import linear_model\n",
    "from sklearn.linear_model import LinearRegression\n",
    "from sklearn.ensemble import RandomForestRegressor\n",
    "from sklearn.ensemble import RandomForestClassifier\n",
    "from sklearn.neural_network import MLPRegressor\n",
    "from sklearn.model_selection import train_test_split\n",
    "import matplotlib.pyplot as plt\n",
    "from matplotlib.pyplot import figure\n",
    "import seaborn as sns\n",
    "from scipy.stats import gaussian_kde\n",
    "import warnings\n",
    "import keras\n",
    "from keras.models import Sequential\n",
    "from keras import layers\n",
    "from keras import activations"
   ]
  },
  {
   "cell_type": "code",
   "execution_count": 3,
   "metadata": {
    "colab": {
     "base_uri": "https://localhost:8080/"
    },
    "id": "3chXE-9Vq3bD",
    "outputId": "082269be-50fd-4593-a49e-2a4edbab5f03"
   },
   "outputs": [
    {
     "name": "stdout",
     "output_type": "stream",
     "text": [
      "Mounted at /content/drive\n"
     ]
    }
   ],
   "source": [
    "from google.colab import drive\n",
    "drive.mount('/content/drive')"
   ]
  },
  {
   "cell_type": "markdown",
   "metadata": {
    "id": "J4gcqghnqg3B"
   },
   "source": [
    "# Task 1\n",
    "### Question 1"
   ]
  },
  {
   "cell_type": "code",
   "execution_count": 3,
   "metadata": {
    "colab": {
     "base_uri": "https://localhost:8080/"
    },
    "id": "7qbiaVp-qg3C",
    "outputId": "1ec99763-c54c-4a0f-ddf3-2106afb10428"
   },
   "outputs": [
    {
     "name": "stdout",
     "output_type": "stream",
     "text": [
      "The shape of X.csv is:\n",
      "(28962, 1752)\n",
      "The shape of Y.csv is:\n",
      "(28962, 3)\n"
     ]
    }
   ],
   "source": [
    "X = pd.read_csv('../Project1/KV_periodic/X.csv')\n",
    "Y = pd.read_csv('../Project1/KV_periodic/Y.csv')\n",
    "print(\"The shape of X.csv is:\")\n",
    "print(X.shape)\n",
    "print(\"The shape of Y.csv is:\")\n",
    "print(Y.shape)"
   ]
  },
  {
   "cell_type": "markdown",
   "metadata": {
    "id": "J0oqaGq-qg3H"
   },
   "source": [
    "<font color=blue size=3> Since X and Y both has a column for timestamp, therefore, the number of samples is 28962, the number of features is 1751, the number of types of targets is 2. </font>"
   ]
  },
  {
   "cell_type": "code",
   "execution_count": null,
   "metadata": {
    "colab": {
     "base_uri": "https://localhost:8080/"
    },
    "id": "u77F11Caqg3I",
    "outputId": "bf12cd24-778c-4973-9f3b-2d1ea571c828"
   },
   "outputs": [
    {
     "name": "stdout",
     "output_type": "stream",
     "text": [
      "The chosen features are:\n",
      "4_X..swpused\n",
      "2_eth1_rxdrop.s\n",
      "1_cpu23_.sys\n",
      "4_cpu12_.idle\n",
      "0_i117_intr.s\n",
      "1_cpu2_.idle\n",
      "1_dev8.5_await\n",
      "2_idisc6.s\n",
      "1_i118_intr.s\n",
      "4_i119_intr.s\n"
     ]
    }
   ],
   "source": [
    "chosenFeatureID = random.sample(range(1752), 10) #choose 10 random featrues from 1751 features\n",
    "print(\"The chosen features are:\")\n",
    "#print(chosenFeatureID)\n",
    "chosenX = X.iloc[:, chosenFeatureID].copy() #the chosen features\n",
    "for col in chosenX.columns:\n",
    "    print(col)"
   ]
  },
  {
   "cell_type": "markdown",
   "metadata": {
    "id": "tW05sFj1qg3L"
   },
   "source": [
    "<font color=blue size=3> By looking up the manual page:</font> <br>\n",
    "<font color=blue size=3> 'usr' means the percentage of CPU utilization that occurred while executing at the user level (application). </font> <br>\n",
    "<font color=blue size=3> 'sys' means the percentage of CPU utilization that occurred while executing at the system level (kernel).</font> <br>\n",
    "<font color=blue size=3> 'rxkB' means the total number of kilobytes received per second.</font> <br>\n",
    "<font color=blue size=3> 'iowait' means the percentage of time that the CPU or CPUs were idle during which the system had an outstanding disk I/O request.</font> <br>\n",
    "<font color=blue size=3> 'idle' means the percentage of time that the CPU or CPUs were idle and the system did not have an outstanding disk I/O request. </font> <br>\n",
    "<font color=blue size=3> 'retrans' means the number of RPC requests per second, those which needed to be retransmitted. </font> <br>\n",
    "<font color=blue size=3> 'txkB' means the total number of kilobytes transmitted per second.</font> <br>"
   ]
  },
  {
   "cell_type": "code",
   "execution_count": null,
   "metadata": {
    "colab": {
     "base_uri": "https://localhost:8080/",
     "height": 225
    },
    "id": "_5uz6Ganqg3L",
    "outputId": "7ea7489d-cc8f-46bd-c4e4-aa0315c4b1ee"
   },
   "outputs": [
    {
     "data": {
      "text/html": [
       "<div>\n",
       "<style scoped>\n",
       "    .dataframe tbody tr th:only-of-type {\n",
       "        vertical-align: middle;\n",
       "    }\n",
       "\n",
       "    .dataframe tbody tr th {\n",
       "        vertical-align: top;\n",
       "    }\n",
       "\n",
       "    .dataframe thead th {\n",
       "        text-align: right;\n",
       "    }\n",
       "</style>\n",
       "<table border=\"1\" class=\"dataframe\">\n",
       "  <thead>\n",
       "    <tr style=\"text-align: right;\">\n",
       "      <th></th>\n",
       "      <th>4_X..swpused</th>\n",
       "      <th>2_eth1_rxdrop.s</th>\n",
       "      <th>1_cpu23_.sys</th>\n",
       "      <th>4_cpu12_.idle</th>\n",
       "      <th>0_i117_intr.s</th>\n",
       "      <th>1_cpu2_.idle</th>\n",
       "      <th>1_dev8.5_await</th>\n",
       "      <th>2_idisc6.s</th>\n",
       "      <th>1_i118_intr.s</th>\n",
       "      <th>4_i119_intr.s</th>\n",
       "    </tr>\n",
       "  </thead>\n",
       "  <tbody>\n",
       "    <tr>\n",
       "      <th>mean</th>\n",
       "      <td>1.21</td>\n",
       "      <td>0.07</td>\n",
       "      <td>0.30</td>\n",
       "      <td>97.92</td>\n",
       "      <td>1.54</td>\n",
       "      <td>98.76</td>\n",
       "      <td>4.85</td>\n",
       "      <td>0.02</td>\n",
       "      <td>0.01</td>\n",
       "      <td>218.74</td>\n",
       "    </tr>\n",
       "    <tr>\n",
       "      <th>std</th>\n",
       "      <td>0.31</td>\n",
       "      <td>0.25</td>\n",
       "      <td>0.60</td>\n",
       "      <td>2.41</td>\n",
       "      <td>0.95</td>\n",
       "      <td>1.66</td>\n",
       "      <td>14.93</td>\n",
       "      <td>0.13</td>\n",
       "      <td>0.08</td>\n",
       "      <td>85.33</td>\n",
       "    </tr>\n",
       "    <tr>\n",
       "      <th>max</th>\n",
       "      <td>1.77</td>\n",
       "      <td>1.00</td>\n",
       "      <td>3.96</td>\n",
       "      <td>100.00</td>\n",
       "      <td>5.00</td>\n",
       "      <td>101.01</td>\n",
       "      <td>1,218.18</td>\n",
       "      <td>1.00</td>\n",
       "      <td>2.00</td>\n",
       "      <td>727.00</td>\n",
       "    </tr>\n",
       "    <tr>\n",
       "      <th>min</th>\n",
       "      <td>0.86</td>\n",
       "      <td>0.00</td>\n",
       "      <td>0.00</td>\n",
       "      <td>0.00</td>\n",
       "      <td>0.00</td>\n",
       "      <td>46.60</td>\n",
       "      <td>0.00</td>\n",
       "      <td>0.00</td>\n",
       "      <td>0.00</td>\n",
       "      <td>0.00</td>\n",
       "    </tr>\n",
       "    <tr>\n",
       "      <th>25%</th>\n",
       "      <td>0.91</td>\n",
       "      <td>0.00</td>\n",
       "      <td>0.00</td>\n",
       "      <td>97.03</td>\n",
       "      <td>1.00</td>\n",
       "      <td>98.00</td>\n",
       "      <td>1.60</td>\n",
       "      <td>0.00</td>\n",
       "      <td>0.00</td>\n",
       "      <td>151.00</td>\n",
       "    </tr>\n",
       "    <tr>\n",
       "      <th>90%</th>\n",
       "      <td>1.72</td>\n",
       "      <td>0.00</td>\n",
       "      <td>1.01</td>\n",
       "      <td>100.00</td>\n",
       "      <td>3.00</td>\n",
       "      <td>100.00</td>\n",
       "      <td>9.14</td>\n",
       "      <td>0.00</td>\n",
       "      <td>0.00</td>\n",
       "      <td>332.00</td>\n",
       "    </tr>\n",
       "  </tbody>\n",
       "</table>\n",
       "</div>"
      ],
      "text/plain": [
       "      4_X..swpused  2_eth1_rxdrop.s  ...  1_i118_intr.s  4_i119_intr.s\n",
       "mean          1.21             0.07  ...           0.01         218.74\n",
       "std           0.31             0.25  ...           0.08          85.33\n",
       "max           1.77             1.00  ...           2.00         727.00\n",
       "min           0.86             0.00  ...           0.00           0.00\n",
       "25%           0.91             0.00  ...           0.00         151.00\n",
       "90%           1.72             0.00  ...           0.00         332.00\n",
       "\n",
       "[6 rows x 10 columns]"
      ]
     },
     "execution_count": 6,
     "metadata": {
      "tags": []
     },
     "output_type": "execute_result"
    }
   ],
   "source": [
    "pd.options.display.float_format = \"{:,.2f}\".format #set no more than two digits after the decimal point\n",
    "allStatistics = pd.DataFrame(chosenX.describe(percentiles = [0.25,0.90]))\n",
    "statistics  = allStatistics.iloc[[1,2,7,3,4,6], :].copy()\n",
    "statistics"
   ]
  },
  {
   "cell_type": "markdown",
   "metadata": {
    "id": "p40vSnl1qg3Q"
   },
   "source": [
    "<font color=blue size=3> With help of describe(), the required statistics are shown above.</font> <br>"
   ]
  },
  {
   "cell_type": "markdown",
   "metadata": {
    "id": "gSQWCkGkqg3R"
   },
   "source": [
    "### Question 2"
   ]
  },
  {
   "cell_type": "code",
   "execution_count": 4,
   "metadata": {
    "colab": {
     "base_uri": "https://localhost:8080/"
    },
    "id": "VNrRDYpKqg3T",
    "outputId": "05108509-4cff-41aa-b839-0898a3767360"
   },
   "outputs": [
    {
     "data": {
      "text/plain": [
       "array([[2.230000e+00, 5.500000e-01, 4.200000e-01, ..., 2.960000e+02,\n",
       "        1.216590e+05, 2.937120e+05],\n",
       "       [3.480000e+00, 7.600000e-01, 1.510000e+00, ..., 3.487000e+03,\n",
       "        1.603670e+06, 2.822663e+06],\n",
       "       [5.400000e+00, 7.900000e-01, 5.360000e+00, ..., 2.755000e+03,\n",
       "        1.272053e+06, 2.442247e+06],\n",
       "       ...,\n",
       "       [4.000000e-02, 8.000000e-02, 0.000000e+00, ..., 3.210000e+02,\n",
       "        1.565630e+05, 2.891050e+05],\n",
       "       [4.000000e-02, 8.000000e-02, 0.000000e+00, ..., 3.100000e+02,\n",
       "        1.479080e+05, 2.842120e+05],\n",
       "       [4.000000e-02, 4.000000e-02, 0.000000e+00, ..., 3.330000e+02,\n",
       "        1.724420e+05, 2.755180e+05]])"
      ]
     },
     "execution_count": 4,
     "metadata": {},
     "output_type": "execute_result"
    }
   ],
   "source": [
    "#statisticsNum = np.around(statisticsNum, decimals=2) #round to two digits after the decimal point\n",
    "numpyX = X.drop(['TimeStamp'], axis=1).copy() #remove timestamp\n",
    "numpyX = numpyX.to_numpy()\n",
    "#np.set_printoptions(precision=2) #set no more than two digits after the decimal point\n",
    "numpyX"
   ]
  },
  {
   "cell_type": "markdown",
   "metadata": {
    "id": "JVtK8G3Jqg3X"
   },
   "source": [
    "##### (a) L2 Normalization"
   ]
  },
  {
   "cell_type": "code",
   "execution_count": 14,
   "metadata": {
    "colab": {
     "base_uri": "https://localhost:8080/"
    },
    "id": "DY09s4qnqg3Y",
    "outputId": "219cdf5f-3091-4851-b2d5-f7c4bd53d1af"
   },
   "outputs": [
    {
     "data": {
      "text/plain": [
       "array([[7.69676654e-09, 1.89830565e-09, 1.44961522e-09, ...,\n",
       "        1.02163359e-06, 4.19901758e-04, 1.01373663e-03],\n",
       "       [1.19873115e-08, 2.61791861e-09, 5.20139093e-09, ...,\n",
       "        1.20114240e-05, 5.52404940e-03, 9.72302896e-03],\n",
       "       [1.86083603e-08, 2.72233419e-09, 1.84705206e-08, ...,\n",
       "        9.49370974e-06, 4.38348528e-03, 8.41596520e-03],\n",
       "       ...,\n",
       "       [1.38095228e-10, 2.76190456e-10, 0.00000000e+00, ...,\n",
       "        1.10821421e-06, 5.40515080e-04, 9.98100523e-04],\n",
       "       [1.38095536e-10, 2.76191072e-10, 0.00000000e+00, ...,\n",
       "        1.07024041e-06, 5.10635864e-04, 9.81210213e-04],\n",
       "       [1.38094431e-10, 1.38094431e-10, 0.00000000e+00, ...,\n",
       "        1.14963614e-06, 5.95331995e-04, 9.51187534e-04]])"
      ]
     },
     "execution_count": 14,
     "metadata": {},
     "output_type": "execute_result"
    }
   ],
   "source": [
    "normedRowX= preprocessing.normalize(numpyX, norm='l2')\n",
    "normedRowX"
   ]
  },
  {
   "cell_type": "code",
   "execution_count": 7,
   "metadata": {
    "colab": {
     "base_uri": "https://localhost:8080/"
    },
    "id": "TiwVrNFvqg3c",
    "outputId": "bc1bf5f8-03e4-43e2-88cd-b4d5f1ff2ed6"
   },
   "outputs": [
    {
     "name": "stdout",
     "output_type": "stream",
     "text": [
      "L2 norm in row is correct.\n"
     ]
    }
   ],
   "source": [
    "#Verifycation of L2 norm\n",
    "normCorrect = 1\n",
    "for i in range(normedRowX.shape[0]):\n",
    "    sums = 0\n",
    "    for j in normedRowX[i]:\n",
    "        sums += j**2\n",
    "    sums = float(\"{:.4f}\".format(sums))     \n",
    "    if sums != 1:\n",
    "        normCorrect = 0\n",
    "if normCorrect:\n",
    "    print(\"L2 norm in row is correct.\")"
   ]
  },
  {
   "cell_type": "code",
   "execution_count": 5,
   "metadata": {
    "colab": {
     "base_uri": "https://localhost:8080/"
    },
    "id": "mG0zJCr2qg3h",
    "outputId": "1ad253c6-abd4-4e37-bae2-a53244b2e1f9"
   },
   "outputs": [
    {
     "data": {
      "text/plain": [
       "array([[0.0210194 , 0.00907754, 0.00944102, ..., 0.00046718, 0.00039578,\n",
       "        0.00050488],\n",
       "       [0.03280157, 0.0125435 , 0.03394272, ..., 0.00550362, 0.00521708,\n",
       "        0.00485209],\n",
       "       [0.050899  , 0.01303864, 0.12048541, ..., 0.00434829, 0.00413826,\n",
       "        0.00419817],\n",
       "       ...,\n",
       "       [0.00037703, 0.00132037, 0.        , ..., 0.00050664, 0.00050933,\n",
       "        0.00049697],\n",
       "       [0.00037703, 0.00132037, 0.        , ..., 0.00048928, 0.00048118,\n",
       "        0.00048855],\n",
       "       [0.00037703, 0.00066018, 0.        , ..., 0.00052558, 0.00056099,\n",
       "        0.00047361]])"
      ]
     },
     "execution_count": 5,
     "metadata": {},
     "output_type": "execute_result"
    }
   ],
   "source": [
    "normedColumnX = preprocessing.normalize(numpyX.T, norm='l2')\n",
    "normedColumnX = normedColumnX.T\n",
    "normedColumnX"
   ]
  },
  {
   "cell_type": "code",
   "execution_count": 9,
   "metadata": {
    "colab": {
     "base_uri": "https://localhost:8080/"
    },
    "id": "Fgjsla7yqg3o",
    "outputId": "5dc7b657-299a-4cc7-b8bd-9364d50269c2"
   },
   "outputs": [
    {
     "name": "stdout",
     "output_type": "stream",
     "text": [
      "L2 norm in column is correct.\n"
     ]
    }
   ],
   "source": [
    "#Verifycation of L2 norm\n",
    "normCorrect = 1\n",
    "for j in range(normedColumnX.shape[1]):\n",
    "    sums = 0\n",
    "    for i in range(normedColumnX.shape[0]):\n",
    "        sums += normedColumnX[i][j]**2\n",
    "    sums = float(\"{:.4f}\".format(sums))   \n",
    "    if sums != 1:\n",
    "        normCorrect = 0\n",
    "if normCorrect:\n",
    "    print(\"L2 norm in column is correct.\")"
   ]
  },
  {
   "cell_type": "markdown",
   "metadata": {
    "id": "pAPRnCb5qg3t"
   },
   "source": [
    "##### (b) Restriction to Interval"
   ]
  },
  {
   "cell_type": "code",
   "execution_count": 16,
   "metadata": {
    "id": "xn8jcjg8qg3u"
   },
   "outputs": [],
   "source": [
    "def normalizeData(data):\n",
    "    return (data - np.min(data)) / (np.max(data) - np.min(data))"
   ]
  },
  {
   "cell_type": "code",
   "execution_count": 17,
   "metadata": {
    "colab": {
     "base_uri": "https://localhost:8080/"
    },
    "id": "9tWTOV7dqg3z",
    "outputId": "2a1c1084-874a-4e1e-a8f4-972c3ecc64dc"
   },
   "outputs": [
    {
     "data": {
      "text/plain": [
       "array([[5.84383254e-05, 5.84132563e-05, 5.84113164e-05, ...,\n",
       "        6.28219869e-05, 1.87381125e-03, 4.44120111e-03],\n",
       "       [6.58279802e-05, 6.57873925e-05, 6.57985839e-05, ...,\n",
       "        1.17808967e-04, 2.39956946e-02, 4.21854738e-02],\n",
       "       [9.93530577e-05, 9.92842697e-05, 9.93524608e-05, ...,\n",
       "        1.40381108e-04, 1.90801620e-02, 3.65411665e-02],\n",
       "       ...,\n",
       "       [4.48981704e-07, 4.49579549e-07, 4.48383859e-07, ...,\n",
       "        5.24609115e-06, 2.34045912e-03, 4.32144890e-03],\n",
       "       [9.57149591e-07, 9.57747435e-07, 9.56551746e-07, ...,\n",
       "        5.58984926e-06, 2.21160742e-03, 4.24882350e-03],\n",
       "       [8.37580672e-07, 8.37580672e-07, 8.36982828e-07, ...,\n",
       "        5.81404143e-06, 2.57817614e-03, 4.11876260e-03]])"
      ]
     },
     "execution_count": 17,
     "metadata": {},
     "output_type": "execute_result"
    }
   ],
   "source": [
    "resRowX = np.zeros(numpyX.shape)\n",
    "for i in range(numpyX.shape[0]):\n",
    "    resRowX[i] = normalizeData(numpyX[i])\n",
    "resRowX"
   ]
  },
  {
   "cell_type": "code",
   "execution_count": 12,
   "metadata": {
    "colab": {
     "base_uri": "https://localhost:8080/"
    },
    "id": "oh_nB63bqg34",
    "outputId": "e725456a-01db-4fd5-ebb0-baf1c98b1e72"
   },
   "outputs": [
    {
     "name": "stdout",
     "output_type": "stream",
     "text": [
      "[0,1] scaling in row is correct.\n"
     ]
    }
   ],
   "source": [
    "#Verifycation of [0,1] scaling\n",
    "resCorrect = 1\n",
    "for i in range(resRowX.shape[0]):\n",
    "    for j in resRowX[i]:   \n",
    "        if j<0 or j>1:\n",
    "            resCorrect = 0\n",
    "if resCorrect:\n",
    "    print(\"[0,1] scaling in row is correct.\")"
   ]
  },
  {
   "cell_type": "code",
   "execution_count": 18,
   "metadata": {
    "colab": {
     "base_uri": "https://localhost:8080/"
    },
    "id": "-coqBsOZqg38",
    "outputId": "db0df808-b10c-4b8f-c962-2da66c9dae6b"
   },
   "outputs": [
    {
     "data": {
      "text/plain": [
       "array([[0.11506708, 0.18272425, 0.0320122 , ..., 0.00775097, 0.01653088,\n",
       "        0.00782261],\n",
       "       [0.17956656, 0.25249169, 0.11509146, ..., 0.40667583, 0.39170616,\n",
       "        0.35135498],\n",
       "       [0.27863777, 0.26245847, 0.40853659, ..., 0.3151644 , 0.30775637,\n",
       "        0.29967932],\n",
       "       ...,\n",
       "       [0.00206398, 0.02657807, 0.        , ..., 0.01087636, 0.02536693,\n",
       "        0.0071968 ],\n",
       "       [0.00206398, 0.02657807, 0.        , ..., 0.00950119, 0.02317589,\n",
       "        0.00653213],\n",
       "       [0.00206398, 0.01328904, 0.        , ..., 0.01237655, 0.02938674,\n",
       "        0.00535114]])"
      ]
     },
     "execution_count": 18,
     "metadata": {},
     "output_type": "execute_result"
    }
   ],
   "source": [
    "resColumnX = np.zeros(numpyX.T.shape)\n",
    "for i in range(numpyX.T.shape[0]):\n",
    "    resColumnX[i] = normalizeData(numpyX.T[i])\n",
    "resColumnX = resColumnX.T\n",
    "resColumnX"
   ]
  },
  {
   "cell_type": "code",
   "execution_count": 14,
   "metadata": {
    "colab": {
     "base_uri": "https://localhost:8080/"
    },
    "id": "B_vm_siPqg4B",
    "outputId": "0cf236b9-e28c-4bf2-e255-d32c54ffbe0f"
   },
   "outputs": [
    {
     "name": "stdout",
     "output_type": "stream",
     "text": [
      "[0,1] scaling in column is correct.\n"
     ]
    }
   ],
   "source": [
    "#Verifycation of [0,1] scaling\n",
    "resCorrect = 1\n",
    "for i in range(resRowX.shape[0]):\n",
    "    for j in resRowX[i]:   \n",
    "        if j<0 or j>1:\n",
    "            resCorrect = 0\n",
    "if resCorrect:\n",
    "    print(\"[0,1] scaling in column is correct.\")"
   ]
  },
  {
   "cell_type": "markdown",
   "metadata": {
    "id": "HvYlqeQqqg4H"
   },
   "source": [
    "##### (c) Standardization"
   ]
  },
  {
   "cell_type": "code",
   "execution_count": 4,
   "metadata": {
    "colab": {
     "base_uri": "https://localhost:8080/"
    },
    "id": "3nyQzd67qg4I",
    "outputId": "d0edda74-643f-4df8-9549-29e8edc5d82a"
   },
   "outputs": [
    {
     "data": {
      "text/plain": [
       "array([[-0.14757565, -0.14757589, -0.14757591, ..., -0.14753276,\n",
       "        -0.1298149 , -0.10469678],\n",
       "       [-0.15495775, -0.15495815, -0.15495804, ..., -0.15444964,\n",
       "         0.07895409,  0.25675721],\n",
       "       [-0.1533002 , -0.15330087, -0.15330021, ..., -0.15289908,\n",
       "         0.0322686 ,  0.2029788 ],\n",
       "       ...,\n",
       "       [-0.14485998, -0.14485997, -0.14485998, ..., -0.14481312,\n",
       "        -0.12200608, -0.10265858],\n",
       "       [-0.144821  , -0.144821  , -0.14482101, ..., -0.14477576,\n",
       "        -0.12323057, -0.10333399],\n",
       "       [-0.14486899, -0.14486899, -0.144869  , ..., -0.14482039,\n",
       "        -0.1196973 , -0.1046511 ]])"
      ]
     },
     "execution_count": 4,
     "metadata": {},
     "output_type": "execute_result"
    }
   ],
   "source": [
    "stdRowX = np.zeros(numpyX.shape)\n",
    "for i in range(numpyX.shape[0]):\n",
    "    stdRowX[i] = preprocessing.scale(numpyX[i])\n",
    "stdRowX"
   ]
  },
  {
   "cell_type": "code",
   "execution_count": 16,
   "metadata": {
    "colab": {
     "base_uri": "https://localhost:8080/"
    },
    "id": "y-CM3AJPqg4L",
    "outputId": "140970c8-0059-4491-b957-78d6254e8eb3"
   },
   "outputs": [
    {
     "name": "stdout",
     "output_type": "stream",
     "text": [
      "L2 standardizatio in row is correct.\n"
     ]
    }
   ],
   "source": [
    "#Verifycation of standardizatio\n",
    "stdCorrect = 1\n",
    "for i in stdRowX:\n",
    "    mean = float(\"{:.4f}\".format(i.mean()))\n",
    "    std = float(\"{:.4f}\".format(i.std()))\n",
    "    if mean != 0 or std != 1:\n",
    "        stdCorrect = 0\n",
    "if stdCorrect:\n",
    "    print(\"L2 standardizatio in row is correct.\")"
   ]
  },
  {
   "cell_type": "code",
   "execution_count": 5,
   "metadata": {
    "colab": {
     "base_uri": "https://localhost:8080/"
    },
    "id": "eRG6YgJxqg4P",
    "outputId": "1aa126db-b1e6-4634-d7bb-e66209a9176a",
    "scrolled": true
   },
   "outputs": [
    {
     "data": {
      "text/plain": [
       "array([[ 3.68670472,  1.83315127,  1.33082725, ..., -1.56242283,\n",
       "        -1.55914158, -1.4338984 ],\n",
       "       [ 6.15623665,  3.63558832,  5.82039329, ...,  0.14334655,\n",
       "         0.05312454, -0.04070709],\n",
       "       [ 9.9494377 ,  3.89307932, 21.6780348 , ..., -0.24794872,\n",
       "        -0.30763854, -0.25027709],\n",
       "       ...,\n",
       "       [-0.63991522, -2.20087449, -0.39909728, ..., -1.54905893,\n",
       "        -1.52116984, -1.43643639],\n",
       "       [-0.63991522, -2.20087449, -0.39909728, ..., -1.55493905,\n",
       "        -1.53058553, -1.43913192],\n",
       "       [-0.63991522, -2.54419583, -0.39909728, ..., -1.54264425,\n",
       "        -1.50389522, -1.44392142]])"
      ]
     },
     "execution_count": 5,
     "metadata": {},
     "output_type": "execute_result"
    }
   ],
   "source": [
    "stdColumnX = np.zeros(numpyX.T.shape)\n",
    "for i in range(numpyX.T.shape[0]):\n",
    "    stdColumnX[i] = preprocessing.scale(numpyX.T[i])\n",
    "stdColumnX = stdColumnX.T\n",
    "stdColumnX"
   ]
  },
  {
   "cell_type": "code",
   "execution_count": 18,
   "metadata": {
    "colab": {
     "base_uri": "https://localhost:8080/"
    },
    "id": "4_J_vmwlqg4U",
    "outputId": "3c26340b-4634-4375-d321-cd3a444ee98d"
   },
   "outputs": [
    {
     "name": "stdout",
     "output_type": "stream",
     "text": [
      "L2 standardizatio in column is correct.\n"
     ]
    }
   ],
   "source": [
    "#Verifycation of standardizatio\n",
    "stdCorrect = 1\n",
    "for i in stdColumnX.T:\n",
    "    mean = float(\"{:.4f}\".format(i.mean()))\n",
    "    std = float(\"{:.4f}\".format(i.std()))\n",
    "    if mean != 0 or std != 1:\n",
    "        stdCorrect = 0\n",
    "if stdCorrect:\n",
    "    print(\"L2 standardizatio in column is correct.\")"
   ]
  },
  {
   "cell_type": "markdown",
   "metadata": {
    "id": "xzyZEPGQqg4Z"
   },
   "source": [
    "# Task 2\n",
    "### Question 2.1"
   ]
  },
  {
   "cell_type": "code",
   "execution_count": 6,
   "metadata": {
    "id": "ox30MWKbqg4a"
   },
   "outputs": [],
   "source": [
    "# prepare train data\n",
    "numpyY = Y.drop(['TimeStamp'], axis=1).copy().to_numpy() #remove timestamp\n",
    "trainX, testX, trainY, testY = train_test_split(numpyX, numpyY, train_size = 0.7, shuffle = True) #split the train and test data"
   ]
  },
  {
   "cell_type": "code",
   "execution_count": 7,
   "metadata": {
    "id": "Hq8JKdbqqg4e"
   },
   "outputs": [],
   "source": [
    "def calError(real, pred):\n",
    "    errors = np.zeros([1,2])\n",
    "    m = pred.T.shape[1]\n",
    "    for i in range(pred.T.shape[0]):\n",
    "        average = real.T[i].mean()\n",
    "        sums = 0\n",
    "        for j in range(m):\n",
    "            sums += abs(real.T[i][j] - pred.T[i][j])\n",
    "        errors[0][i] = sums / m / average\n",
    "    return errors"
   ]
  },
  {
   "cell_type": "markdown",
   "metadata": {
    "id": "Qbc_0-0Pqg4j"
   },
   "source": [
    "##### Linear regression"
   ]
  },
  {
   "cell_type": "code",
   "execution_count": 42,
   "metadata": {
    "colab": {
     "base_uri": "https://localhost:8080/"
    },
    "id": "kLe_1dc3qg4k",
    "outputId": "01e46b72-8588-4c66-c79a-67cc3c020a1c"
   },
   "outputs": [
    {
     "name": "stderr",
     "output_type": "stream",
     "text": [
      "D:\\Anaconda\\lib\\site-packages\\sklearn\\linear_model\\coordinate_descent.py:475: ConvergenceWarning: Objective did not converge. You might want to increase the number of iterations. Duality gap: 34583.332863890064, tolerance: 21.3503917644261\n",
      "  positive)\n",
      "D:\\Anaconda\\lib\\site-packages\\sklearn\\linear_model\\coordinate_descent.py:475: ConvergenceWarning: Objective did not converge. You might want to increase the number of iterations. Duality gap: 164453.01338476708, tolerance: 97.08632217685464\n",
      "  positive)\n"
     ]
    }
   ],
   "source": [
    "regLinear = linear_model.Lasso(alpha=0.1)\n",
    "regLinear.fit(trainX, trainY) #train model\n",
    "predLinearY = regLinear.predict(testX) #predict Y"
   ]
  },
  {
   "cell_type": "markdown",
   "metadata": {
    "id": "gjvMGxEFqg4o"
   },
   "source": [
    "<font color=blue size=3> Linear regression's accuracy is:</font> <br>"
   ]
  },
  {
   "cell_type": "code",
   "execution_count": 43,
   "metadata": {
    "colab": {
     "base_uri": "https://localhost:8080/"
    },
    "id": "9ZIVvtZUqg4p",
    "outputId": "140bd803-6921-4de7-defa-36fee6c5edc5"
   },
   "outputs": [
    {
     "data": {
      "text/plain": [
       "array([[0.02308785, 0.02509718]])"
      ]
     },
     "execution_count": 43,
     "metadata": {},
     "output_type": "execute_result"
    }
   ],
   "source": [
    "calError(testY, predLinearY)"
   ]
  },
  {
   "cell_type": "markdown",
   "metadata": {
    "id": "zruZ_FnBqg4s"
   },
   "source": [
    "##### Random forest regression"
   ]
  },
  {
   "cell_type": "code",
   "execution_count": null,
   "metadata": {
    "id": "agdSXEksqg4s"
   },
   "outputs": [],
   "source": [
    "regRF = RandomForestRegressor()\n",
    "regRF.fit(trainX, trainY) #train model\n",
    "predRFY = regRF.predict(testX) #predict Y"
   ]
  },
  {
   "cell_type": "markdown",
   "metadata": {
    "id": "J_c5_6y-qg4y"
   },
   "source": [
    "<font color=blue size=3> Random forest regression's accuracy is:</font> <br>"
   ]
  },
  {
   "cell_type": "code",
   "execution_count": null,
   "metadata": {
    "colab": {
     "base_uri": "https://localhost:8080/"
    },
    "id": "gfWmuYU5qg4z",
    "outputId": "5c1afc74-25cb-4389-db28-622b9d213c1d"
   },
   "outputs": [
    {
     "data": {
      "text/plain": [
       "array([[0.02094821, 0.02241047]])"
      ]
     },
     "execution_count": 23,
     "metadata": {
      "tags": []
     },
     "output_type": "execute_result"
    }
   ],
   "source": [
    "calError(testY, predRFY)"
   ]
  },
  {
   "cell_type": "markdown",
   "metadata": {
    "id": "ld75utfTqg46"
   },
   "source": [
    "#####  Neural network regression"
   ]
  },
  {
   "cell_type": "code",
   "execution_count": 21,
   "metadata": {
    "colab": {
     "base_uri": "https://localhost:8080/"
    },
    "id": "iV0rUiOy--x2",
    "outputId": "2a1179ca-8d8d-4fec-c24b-e3db1c63bebe"
   },
   "outputs": [
    {
     "name": "stdout",
     "output_type": "stream",
     "text": [
      "Model: \"sequential_1\"\n",
      "_________________________________________________________________\n",
      "Layer (type)                 Output Shape              Param #   \n",
      "=================================================================\n",
      "dense_1 (Dense)              (None, 128)               224256    \n",
      "_________________________________________________________________\n",
      "dense_2 (Dense)              (None, 64)                8256      \n",
      "_________________________________________________________________\n",
      "dense_3 (Dense)              (None, 32)                2080      \n",
      "_________________________________________________________________\n",
      "dense_4 (Dense)              (None, 2)                 66        \n",
      "=================================================================\n",
      "Total params: 234,658\n",
      "Trainable params: 234,658\n",
      "Non-trainable params: 0\n",
      "_________________________________________________________________\n"
     ]
    }
   ],
   "source": [
    "model = Sequential()\n",
    "model.add(layers.Dense(128,input_shape=(1751,),activation='sigmoid')) \n",
    "model.add(layers.Dense(64,activation='sigmoid'))\n",
    "model.add(layers.Dense(32,activation='sigmoid'))\n",
    "model.add(layers.Dense(2,activation='linear'))   \n",
    "model.compile(loss='mse', optimizer=keras.optimizers.Adam(\n",
    "    learning_rate=0.01))  \n",
    "model.summary()"
   ]
  },
  {
   "cell_type": "code",
   "execution_count": null,
   "metadata": {
    "colab": {
     "base_uri": "https://localhost:8080/"
    },
    "id": "xecplJ3M74EB",
    "outputId": "5dc9d711-ff24-45d4-e568-7c67326b316e"
   },
   "outputs": [
    {
     "name": "stdout",
     "output_type": "stream",
     "text": [
      "634/634 [==============================] - 1s 1ms/step - loss: 17.1646\n"
     ]
    },
    {
     "data": {
      "text/plain": [
       "17.164579391479492"
      ]
     },
     "execution_count": 36,
     "metadata": {
      "tags": []
     },
     "output_type": "execute_result"
    }
   ],
   "source": [
    "model.fit(trainX, trainY, epochs=100, batch_size=50, verbose=0, validation_split=0.1) \n",
    "model.evaluate(trainX, trainY)"
   ]
  },
  {
   "cell_type": "code",
   "execution_count": null,
   "metadata": {
    "id": "a3rqPPACOsVo"
   },
   "outputs": [],
   "source": [
    "predNNY = model.predict(testX)"
   ]
  },
  {
   "cell_type": "markdown",
   "metadata": {
    "id": "A8un8Nc3qg4-"
   },
   "source": [
    "<font color=blue size=3> Neural network's accuracy is:</font> <br>"
   ]
  },
  {
   "cell_type": "code",
   "execution_count": null,
   "metadata": {
    "colab": {
     "base_uri": "https://localhost:8080/"
    },
    "id": "yspboPkpPJle",
    "outputId": "4f191672-b120-4322-81a8-561ce2693538"
   },
   "outputs": [
    {
     "data": {
      "text/plain": [
       "array([[0.02984006, 0.03133619]])"
      ]
     },
     "execution_count": 38,
     "metadata": {
      "tags": []
     },
     "output_type": "execute_result"
    }
   ],
   "source": [
    "calError(testY, predNNY)"
   ]
  },
  {
   "cell_type": "markdown",
   "metadata": {
    "id": "YaCxtf8Sqg5C"
   },
   "source": [
    "##### Naive method "
   ]
  },
  {
   "cell_type": "code",
   "execution_count": null,
   "metadata": {
    "colab": {
     "base_uri": "https://localhost:8080/"
    },
    "id": "pSUC9izNqg5D",
    "outputId": "a20d3e76-072e-4ac8-f831-0a27fb54428b"
   },
   "outputs": [
    {
     "data": {
      "text/plain": [
       "array([[ 55.98589821, 111.95361111],\n",
       "       [ 55.98589821, 111.95361111],\n",
       "       [ 55.98589821, 111.95361111],\n",
       "       ...,\n",
       "       [ 55.98589821, 111.95361111],\n",
       "       [ 55.98589821, 111.95361111],\n",
       "       [ 55.98589821, 111.95361111]])"
      ]
     },
     "execution_count": 28,
     "metadata": {
      "tags": []
     },
     "output_type": "execute_result"
    }
   ],
   "source": [
    "predNaiveY = np.zeros(testY.shape)\n",
    "predNaiveY.T[0].fill(trainY.T[0].mean())\n",
    "predNaiveY.T[1].fill(trainY.T[1].mean())\n",
    "predNaiveY"
   ]
  },
  {
   "cell_type": "markdown",
   "metadata": {
    "id": "tbfUNaV3qg5H"
   },
   "source": [
    "<font color=blue size=3> Naive method 's accuracy is:</font> <br>"
   ]
  },
  {
   "cell_type": "code",
   "execution_count": null,
   "metadata": {
    "colab": {
     "base_uri": "https://localhost:8080/"
    },
    "id": "9o-kOpOvqg5J",
    "outputId": "8a7ac757-abba-4e30-cde3-fe60f8ff1889"
   },
   "outputs": [
    {
     "data": {
      "text/plain": [
       "array([[0.04346858, 0.04591663]])"
      ]
     },
     "execution_count": 29,
     "metadata": {
      "tags": []
     },
     "output_type": "execute_result"
    }
   ],
   "source": [
    "calError(testY, predNaiveY)"
   ]
  },
  {
   "cell_type": "markdown",
   "metadata": {
    "id": "dfs-4AY1qg5N"
   },
   "source": [
    "##### For random forest model"
   ]
  },
  {
   "cell_type": "code",
   "execution_count": null,
   "metadata": {
    "id": "fVOjouceqg5O"
   },
   "outputs": [],
   "source": [
    "newX = X.drop(['TimeStamp'], axis=1).head(600).copy() #select plot datas\n",
    "newY = Y.drop(['TimeStamp'], axis=1).head(600).copy()\n",
    "timeStamp = np.arange(600)\n",
    "newNumpyX =newX.to_numpy()\n",
    "newNumpyY =newY.to_numpy()"
   ]
  },
  {
   "cell_type": "code",
   "execution_count": null,
   "metadata": {
    "id": "1IC1yoSlqg5Q"
   },
   "outputs": [],
   "source": [
    "newPredNNY = regRF.predict(newNumpyX)\n",
    "newPredNaiveY = predNaiveY[0:600, :]"
   ]
  },
  {
   "cell_type": "markdown",
   "metadata": {
    "id": "bKU5ijh8qg5S"
   },
   "source": [
    "##### Plot of Key Value 1 "
   ]
  },
  {
   "cell_type": "code",
   "execution_count": null,
   "metadata": {
    "colab": {
     "base_uri": "https://localhost:8080/",
     "height": 513
    },
    "id": "a8CyMSyBqg5S",
    "outputId": "8e8cea4e-77f2-45fe-e646-29ae933ccda5"
   },
   "outputs": [
    {
     "data": {
      "image/png": "[encoded data removed]",
      "text/plain": [
       "<Figure size 864x576 with 1 Axes>"
      ]
     },
     "metadata": {
      "needs_background": "light",
      "tags": []
     },
     "output_type": "display_data"
    }
   ],
   "source": [
    "figure(figsize=(12, 8))\n",
    "plt.plot(timeStamp, newPredNNY.T[0], color='r', label = \"Estimation\")\n",
    "plt.plot(timeStamp, newNumpyY.T[0], color='b', linestyle='dashed', label = \"Measured\")\n",
    "plt.plot(timeStamp, newPredNaiveY.T[0], color='g', label = \"Naive estimation\")\n",
    "plt.xlabel('Time index')\n",
    "plt.ylabel('Reads Avgrage Response Time / ms')\n",
    "plt.legend()\n",
    "plt.title('ReadsAvg Plot')\n",
    "plt.show()"
   ]
  },
  {
   "cell_type": "markdown",
   "metadata": {
    "id": "ZKYdQoP4qg5X"
   },
   "source": [
    "##### Plot of Key Value 2"
   ]
  },
  {
   "cell_type": "code",
   "execution_count": null,
   "metadata": {
    "colab": {
     "base_uri": "https://localhost:8080/",
     "height": 513
    },
    "id": "GOMWaMBMqg5Y",
    "outputId": "931360e9-ac9d-4124-c611-ffad770adb93"
   },
   "outputs": [
    {
     "data": {
      "image/png": "[encoded data removed]",
      "text/plain": [
       "<Figure size 864x576 with 1 Axes>"
      ]
     },
     "metadata": {
      "needs_background": "light",
      "tags": []
     },
     "output_type": "display_data"
    }
   ],
   "source": [
    "figure(figsize=(12, 8))\n",
    "plt.plot(timeStamp, newPredNNY.T[1], color='c', label = \"Estimation\")\n",
    "plt.plot(timeStamp, newNumpyY.T[1], color='m', linestyle='dashed', label = \"Measured\")\n",
    "plt.plot(timeStamp, newPredNaiveY.T[1], color='g', label = \"Naive estimation\")\n",
    "plt.xlabel('Time index')\n",
    "plt.ylabel('Write Avgrage Response Time / ms')\n",
    "plt.legend()\n",
    "plt.title('WritesAvg Plot')\n",
    "plt.show()"
   ]
  },
  {
   "cell_type": "markdown",
   "metadata": {
    "id": "gDJvZ3Rxqg5a"
   },
   "source": [
    "##### Density Plot of Target Test Values"
   ]
  },
  {
   "cell_type": "code",
   "execution_count": null,
   "metadata": {
    "colab": {
     "base_uri": "https://localhost:8080/",
     "height": 295
    },
    "id": "jB2oGZziqg5b",
    "outputId": "d02c2a0c-f6a1-4704-edfa-77ea8391d4eb"
   },
   "outputs": [
    {
     "data": {
      "image/png": "[encoded data removed]",
      "text/plain": [
       "<Figure size 432x288 with 1 Axes>"
      ]
     },
     "metadata": {
      "needs_background": "light",
      "tags": []
     },
     "output_type": "display_data"
    }
   ],
   "source": [
    "density1 = gaussian_kde(newNumpyY.T[0])\n",
    "density2 = gaussian_kde(newNumpyY.T[1])\n",
    "scaleX1 = np.linspace(np.min(newNumpyY.T[0]), np.max(newNumpyY.T[0]), 600)\n",
    "scaleX2 = np.linspace(np.min(newNumpyY.T[1]), np.max(newNumpyY.T[1]), 600)\n",
    "plt.plot(scaleX1, density1(scaleX1), label = 'Read Avgrage Time')\n",
    "plt.plot(scaleX2, density2(scaleX2), label = 'Write Avgrage Time')\n",
    "plt.xlabel('Response Time / ms')\n",
    "plt.ylabel('Density')\n",
    "plt.legend()\n",
    "plt.title('Density Plot of Key Values')\n",
    "plt.show()"
   ]
  },
  {
   "cell_type": "markdown",
   "metadata": {
    "id": "JBycPvtiqg5d"
   },
   "source": [
    "##### Histogram"
   ]
  },
  {
   "cell_type": "code",
   "execution_count": null,
   "metadata": {
    "colab": {
     "base_uri": "https://localhost:8080/",
     "height": 295
    },
    "id": "KMZWBwQrqg5d",
    "outputId": "eeda017e-fc67-474d-80b2-08fd2e5d09fd"
   },
   "outputs": [
    {
     "data": {
      "image/png": "[encoded data removed]",
      "text/plain": [
       "<Figure size 432x288 with 1 Axes>"
      ]
     },
     "metadata": {
      "needs_background": "light",
      "tags": []
     },
     "output_type": "display_data"
    }
   ],
   "source": [
    "plt.hist(newPredNNY.T[0], bins=int(np.max(newNumpyY.T[0])-np.min(newNumpyY.T[0])), label = 'Read Avgrage Time')\n",
    "plt.hist(newPredNNY.T[1], bins=int(np.max(newNumpyY.T[1])-np.min(newNumpyY.T[1])), label = 'Write Avgrage Time')\n",
    "plt.xlabel('Response Time / ms')\n",
    "plt.legend()\n",
    "plt.title('Histogram of Key Values')\n",
    "plt.show()"
   ]
  },
  {
   "cell_type": "markdown",
   "metadata": {
    "id": "MgjCw2-Lqg5g"
   },
   "source": [
    "##### Density Plot of Estimation Errors "
   ]
  },
  {
   "cell_type": "code",
   "execution_count": null,
   "metadata": {
    "colab": {
     "base_uri": "https://localhost:8080/",
     "height": 295
    },
    "id": "K4vyySPGqg5g",
    "outputId": "2b93c2d1-48ca-4e63-ac6a-1c002b419d13"
   },
   "outputs": [
    {
     "data": {
      "image/png": "[encoded data removed]",
      "text/plain": [
       "<Figure size 432x288 with 1 Axes>"
      ]
     },
     "metadata": {
      "needs_background": "light",
      "tags": []
     },
     "output_type": "display_data"
    }
   ],
   "source": [
    "error1 = newNumpyY.T[0] - newPredNNY.T[0]\n",
    "error2 = newNumpyY.T[1] - newPredNNY.T[1]\n",
    "density1 = gaussian_kde(error1)\n",
    "density2 = gaussian_kde(error2)\n",
    "scaleX1 = np.linspace(np.min(error1), np.max(error1), 600)\n",
    "scaleX2 = np.linspace(np.min(error2), np.max(error2), 600)\n",
    "plt.plot(scaleX1, density1(scaleX1), label = 'Read Avgrage Time')\n",
    "plt.plot(scaleX2, density2(scaleX2), label = 'Write Avgrage Time')\n",
    "plt.xlabel('Response Time / ms')\n",
    "plt.ylabel('Density')\n",
    "plt.legend()\n",
    "plt.title('Density Plot of Estimation Errors')\n",
    "plt.show()"
   ]
  },
  {
   "cell_type": "markdown",
   "metadata": {
    "id": "eAj-hnH-tbT3"
   },
   "source": [
    "### Question 2.2"
   ]
  },
  {
   "cell_type": "code",
   "execution_count": null,
   "metadata": {
    "id": "2wiKPseounes"
   },
   "outputs": [],
   "source": [
    "warnings.filterwarnings('ignore')"
   ]
  },
  {
   "cell_type": "markdown",
   "metadata": {
    "id": "iaFPXC86tiPL"
   },
   "source": [
    "##### S1"
   ]
  },
  {
   "cell_type": "code",
   "execution_count": null,
   "metadata": {
    "id": "vrrZPjeEt-HB"
   },
   "outputs": [],
   "source": [
    "errorS1 = np.zeros([50,2])\n",
    "for i in range(50):\n",
    "    trainXS1, testXS1, trainYS1, testYS1 = train_test_split(numpyX, numpyY, train_size = 25, test_size = 1000, shuffle = True)\n",
    "    linearS1 = linear_model.Lasso(alpha=0.1) \n",
    "    #linearS1 = LinearRegression()\n",
    "    linearS1.fit(trainXS1, trainYS1) #train model\n",
    "    linearS1Y = linearS1.predict(testXS1) #predict Y\n",
    "    errorS1[i] = calError(testYS1, linearS1Y)"
   ]
  },
  {
   "cell_type": "markdown",
   "metadata": {
    "id": "AuiuLBVMuroj"
   },
   "source": [
    "##### S2"
   ]
  },
  {
   "cell_type": "code",
   "execution_count": null,
   "metadata": {
    "id": "37ski85Xu5kb"
   },
   "outputs": [],
   "source": [
    "errorS2 = np.zeros([50,2])\n",
    "for i in range(50):\n",
    "    trainXS2, testXS2, trainYS2, testYS2 = train_test_split(numpyX, numpyY, train_size = 50, test_size = 1000, shuffle = True)\n",
    "    linearS2 = linear_model.Lasso(alpha=0.1) \n",
    "    linearS2.fit(trainXS2, trainYS2) #train model\n",
    "    linearS2Y = linearS2.predict(testXS2) #predict Y\n",
    "    errorS2[i] = calError(testYS2, linearS2Y)"
   ]
  },
  {
   "cell_type": "markdown",
   "metadata": {
    "id": "g-VmtudHuxi_"
   },
   "source": [
    "##### S3"
   ]
  },
  {
   "cell_type": "code",
   "execution_count": null,
   "metadata": {
    "id": "8_vpkenvvB8F"
   },
   "outputs": [],
   "source": [
    "errorS3 = np.zeros([50,2])\n",
    "for i in range(50):\n",
    "    trainXS3, testXS3, trainYS3, testYS3 = train_test_split(numpyX, numpyY, train_size = 100, test_size = 1000, shuffle = True)\n",
    "    linearS3 = linear_model.Lasso(alpha=0.1) \n",
    "    linearS3.fit(trainXS3, trainYS3) #train model\n",
    "    linearS3Y = linearS3.predict(testXS3) #predict Y\n",
    "    errorS3[i] = calError(testYS3, linearS3Y)"
   ]
  },
  {
   "cell_type": "markdown",
   "metadata": {
    "id": "hJfYVb-KuysK"
   },
   "source": [
    "##### S4"
   ]
  },
  {
   "cell_type": "code",
   "execution_count": null,
   "metadata": {
    "id": "x2hsJao_vIau"
   },
   "outputs": [],
   "source": [
    "errorS4 = np.zeros([50,2])\n",
    "for i in range(50):\n",
    "    trainXS4, testXS4, trainYS4, testYS4 = train_test_split(numpyX, numpyY, train_size = 200, test_size = 1000, shuffle = True)\n",
    "    linearS4 = linear_model.Lasso(alpha=0.1) \n",
    "    linearS4.fit(trainXS4, trainYS4) #train model\n",
    "    linearS4Y = linearS4.predict(testXS4) #predict Y\n",
    "    errorS4[i] = calError(testYS4, linearS4Y)"
   ]
  },
  {
   "cell_type": "markdown",
   "metadata": {
    "id": "-JQQNASbuzy1"
   },
   "source": [
    "##### S5"
   ]
  },
  {
   "cell_type": "code",
   "execution_count": null,
   "metadata": {
    "id": "bcf5q0BcvNEd"
   },
   "outputs": [],
   "source": [
    "errorS5 = np.zeros([50,2])\n",
    "for i in range(50):\n",
    "    trainXS5, testXS5, trainYS5, testYS5 = train_test_split(numpyX, numpyY, train_size = 400, test_size = 1000, shuffle = True)\n",
    "    linearS5 = linear_model.Lasso(alpha=0.1) \n",
    "    linearS5.fit(trainXS5, trainYS5) #train model\n",
    "    linearS5Y = linearS5.predict(testXS5) #predict Y\n",
    "    errorS5[i] = calError(testYS5, linearS5Y)"
   ]
  },
  {
   "cell_type": "markdown",
   "metadata": {
    "id": "HdBW9tyNu0wj"
   },
   "source": [
    "##### S6"
   ]
  },
  {
   "cell_type": "code",
   "execution_count": null,
   "metadata": {
    "id": "PvkaKnu5vTLx"
   },
   "outputs": [],
   "source": [
    "errorS6 = np.zeros([50,2])\n",
    "for i in range(50):\n",
    "    trainXS6, testXS6, trainYS6, testYS6 = train_test_split(numpyX, numpyY, train_size = 800, test_size = 1000, shuffle = True)\n",
    "    linearS6 = linear_model.Lasso(alpha=0.1) \n",
    "    linearS6.fit(trainXS6, trainYS6) #train model\n",
    "    linearS6Y = linearS6.predict(testXS6) #predict Y\n",
    "    errorS6[i] = calError(testYS6, linearS6Y)"
   ]
  },
  {
   "cell_type": "markdown",
   "metadata": {
    "id": "kPu-c8edu1uq"
   },
   "source": [
    "##### S7"
   ]
  },
  {
   "cell_type": "code",
   "execution_count": null,
   "metadata": {
    "id": "02vPbWLXvVP3"
   },
   "outputs": [],
   "source": [
    "errorS7 = np.zeros([50,2])\n",
    "for i in range(50):\n",
    "    trainXS7, testXS7, trainYS7, testYS7 = train_test_split(numpyX, numpyY, train_size = 1600, test_size = 1000, shuffle = True)\n",
    "    linearS7 = linear_model.Lasso(alpha=0.1) \n",
    "    linearS7.fit(trainXS7, trainYS7) #train model\n",
    "    linearS7Y = linearS7.predict(testXS7) #predict Y\n",
    "    errorS7[i] = calError(testYS7, linearS7Y)"
   ]
  },
  {
   "cell_type": "markdown",
   "metadata": {
    "id": "4ZR9DN9Fu2yK"
   },
   "source": [
    "##### S8"
   ]
  },
  {
   "cell_type": "code",
   "execution_count": null,
   "metadata": {
    "id": "mbUAFscwvZzL"
   },
   "outputs": [],
   "source": [
    "errorS8 = np.zeros([50,2])\n",
    "for i in range(50):\n",
    "    trainXS8, testXS8, trainYS8, testYS8 = train_test_split(numpyX, numpyY, train_size = 3200, test_size = 1000, shuffle = True)\n",
    "    linearS8 = linear_model.Lasso(alpha=0.1) \n",
    "    linearS8.fit(trainXS8, trainYS8) #train model\n",
    "    linearS8Y = linearS8.predict(testXS8) #predict Y\n",
    "    errorS8[i] = calError(testYS8, linearS8Y)"
   ]
  },
  {
   "cell_type": "code",
   "execution_count": null,
   "metadata": {
    "colab": {
     "base_uri": "https://localhost:8080/",
     "height": 851
    },
    "id": "zQF7tj6Bvhc5",
    "outputId": "970ec2ce-83d4-493a-ebc3-5735eba8a3ef"
   },
   "outputs": [
    {
     "data": {
      "text/plain": [
       "([<matplotlib.axis.XTick at 0x7fe67278f978>,\n",
       "  <matplotlib.axis.XTick at 0x7fe67278f940>,\n",
       "  <matplotlib.axis.XTick at 0x7fe6728d6080>,\n",
       "  <matplotlib.axis.XTick at 0x7fe67270c940>,\n",
       "  <matplotlib.axis.XTick at 0x7fe67270cda0>,\n",
       "  <matplotlib.axis.XTick at 0x7fe67270cc18>,\n",
       "  <matplotlib.axis.XTick at 0x7fe6726b34a8>,\n",
       "  <matplotlib.axis.XTick at 0x7fe6726b3908>],\n",
       " [Text(0, 0, '25'),\n",
       "  Text(0, 0, '50'),\n",
       "  Text(0, 0, '100'),\n",
       "  Text(0, 0, '200'),\n",
       "  Text(0, 0, '400'),\n",
       "  Text(0, 0, '800'),\n",
       "  Text(0, 0, '1600'),\n",
       "  Text(0, 0, '3200')])"
      ]
     },
     "execution_count": 46,
     "metadata": {
      "tags": []
     },
     "output_type": "execute_result"
    },
    {
     "data": {
      "image/png": "[encoded data removed]",
      "text/plain": [
       "<Figure size 720x504 with 1 Axes>"
      ]
     },
     "metadata": {
      "needs_background": "light",
      "tags": []
     },
     "output_type": "display_data"
    }
   ],
   "source": [
    "boxData = [errorS1.T[0], errorS2.T[0], errorS3.T[0], errorS4.T[0], errorS5.T[0], errorS6.T[0], errorS7.T[0], errorS8.T[0]]\n",
    "fig = plt.figure(figsize =(10, 7)) \n",
    "ax = fig.add_axes([0, 0, 1, 1])\n",
    "plt.xlabel(\"Training set size\")\n",
    "plt.ylabel(\"Normalized Mean Absolute Error of ReadsAvg\") \n",
    "plt.title('Regression Accuracy of ReadsAvg')\n",
    "ax.boxplot(boxData, showfliers = False)\n",
    "plt.xticks([1, 2, 3, 4, 5, 6, 7, 8], ['25', '50', '100', '200', '400', '800', '1600', '3200'])"
   ]
  },
  {
   "cell_type": "markdown",
   "metadata": {
    "id": "T2XzWd93vvRF"
   },
   "source": [
    "# Task 3"
   ]
  },
  {
   "cell_type": "markdown",
   "metadata": {
    "id": "z-rkNkajhTHk"
   },
   "source": [
    "##### Linear regression with L2 Normlization"
   ]
  },
  {
   "cell_type": "code",
   "execution_count": 19,
   "metadata": {
    "colab": {
     "base_uri": "https://localhost:8080/"
    },
    "id": "OeweYpCehxTW",
    "outputId": "6c97a03e-5427-4a28-d2ad-4caf5be6a092"
   },
   "outputs": [
    {
     "data": {
      "text/plain": [
       "array([[0.04269372, 0.04488453]])"
      ]
     },
     "execution_count": 19,
     "metadata": {},
     "output_type": "execute_result"
    }
   ],
   "source": [
    "trainNormedRowX, testNormedRowX, trainNormedRowY, testNormedRowY = train_test_split(normedRowX, numpyY, train_size = 0.7, shuffle = True) #split the train and test data\n",
    "regLinearNormedRow = linear_model.Lasso(alpha=0.1)\n",
    "regLinearNormedRow.fit(trainNormedRowX, trainNormedRowY) #train model\n",
    "predLinearNormedRowY = regLinearNormedRow.predict(testNormedRowX) #predict Y\n",
    "calError(testNormedRowY, predLinearNormedRowY)"
   ]
  },
  {
   "cell_type": "code",
   "execution_count": 20,
   "metadata": {
    "colab": {
     "base_uri": "https://localhost:8080/"
    },
    "id": "KUZL13yNix3J",
    "outputId": "4e2575ca-4439-4ff0-8a94-6c1ae628c43a"
   },
   "outputs": [
    {
     "data": {
      "text/plain": [
       "array([[0.04393602, 0.04605761]])"
      ]
     },
     "execution_count": 20,
     "metadata": {},
     "output_type": "execute_result"
    }
   ],
   "source": [
    "trainNormedColumnX, testNormedColumnX, trainNormedColumnY, testNormedColumnY = train_test_split(normedColumnX, numpyY, train_size = 0.7, shuffle = True) #split the train and test data\n",
    "regLinearNormedColumn = linear_model.Lasso(alpha=0.1)\n",
    "regLinearNormedColumn.fit(trainNormedColumnX, trainNormedColumnY) #train model\n",
    "predLinearNormedColumnY = regLinearNormedColumn.predict(testNormedColumnX) #predict Y\n",
    "calError(testNormedColumnY, predLinearNormedColumnY)"
   ]
  },
  {
   "cell_type": "markdown",
   "metadata": {
    "id": "HOwjZnhYr7Xy"
   },
   "source": [
    "##### Random Forest regression with L2 Normlization"
   ]
  },
  {
   "cell_type": "code",
   "execution_count": null,
   "metadata": {
    "colab": {
     "base_uri": "https://localhost:8080/"
    },
    "id": "AqzWVrRcr6wx",
    "outputId": "8d38545f-22a1-4696-dd0b-523d30a11626"
   },
   "outputs": [
    {
     "data": {
      "text/plain": [
       "array([[0.02119296, 0.02246476]])"
      ]
     },
     "execution_count": 32,
     "metadata": {
      "tags": []
     },
     "output_type": "execute_result"
    }
   ],
   "source": [
    "regRFNormedRow = RandomForestRegressor()\n",
    "regRFNormedRow.fit(trainNormedRowX, trainNormedRowY) \n",
    "predRFNormedRowY = regRFNormedRow.predict(testNormedRowX) \n",
    "calError(testNormedRowY, predRFNormedRowY)"
   ]
  },
  {
   "cell_type": "code",
   "execution_count": null,
   "metadata": {
    "colab": {
     "base_uri": "https://localhost:8080/"
    },
    "id": "oqqhmR0VswLd",
    "outputId": "b2308086-4e19-4e09-9fe0-b9ecb2f94498"
   },
   "outputs": [
    {
     "data": {
      "text/plain": [
       "array([[0.02114556, 0.02241149]])"
      ]
     },
     "execution_count": 33,
     "metadata": {
      "tags": []
     },
     "output_type": "execute_result"
    }
   ],
   "source": [
    "regRFNormedColumn = RandomForestRegressor()\n",
    "regRFNormedColumn.fit(trainNormedColumnX, trainNormedColumnY) \n",
    "predRFNormedColumnY = regRFNormedColumn.predict(testNormedColumnX) \n",
    "calError(testNormedColumnY, predRFNormedColumnY)"
   ]
  },
  {
   "cell_type": "markdown",
   "metadata": {},
   "source": [
    "##### Neural network regression with L2 Normlization"
   ]
  },
  {
   "cell_type": "code",
   "execution_count": 32,
   "metadata": {},
   "outputs": [
    {
     "name": "stdout",
     "output_type": "stream",
     "text": [
      "20273/20273 [==============================] - 1s 52us/step\n"
     ]
    },
    {
     "data": {
      "text/plain": [
       "array([[0.02500836, 0.02553266]])"
      ]
     },
     "execution_count": 32,
     "metadata": {},
     "output_type": "execute_result"
    }
   ],
   "source": [
    "model.fit(trainNormedRowX, trainNormedRowY, epochs=100, batch_size=50, verbose=0, validation_split=0.1) \n",
    "model.evaluate(trainNormedRowX, trainNormedRowY)\n",
    "predNNNormedRowY = model.predict(testNormedRowX)\n",
    "calError(testNormedRowY, predNNNormedRowY)"
   ]
  },
  {
   "cell_type": "code",
   "execution_count": 33,
   "metadata": {},
   "outputs": [
    {
     "name": "stdout",
     "output_type": "stream",
     "text": [
      "20273/20273 [==============================] - 1s 53us/step\n"
     ]
    },
    {
     "data": {
      "text/plain": [
       "array([[0.02448958, 0.02624106]])"
      ]
     },
     "execution_count": 33,
     "metadata": {},
     "output_type": "execute_result"
    }
   ],
   "source": [
    "model.fit(trainNormedColumnX, trainNormedColumnY, epochs=100, batch_size=50, verbose=0, validation_split=0.1) \n",
    "model.evaluate(trainNormedColumnX, trainNormedColumnY)\n",
    "predNNNormedColumnY = model.predict(testNormedColumnX)\n",
    "calError(testNormedColumnY, predNNNormedColumnY)"
   ]
  },
  {
   "cell_type": "markdown",
   "metadata": {},
   "source": [
    "# ---------------------------------------------------------------------------------------------------------------"
   ]
  },
  {
   "cell_type": "markdown",
   "metadata": {
    "id": "xdtVQed2hh3S"
   },
   "source": [
    "##### Linear regression with Restriction to Interval"
   ]
  },
  {
   "cell_type": "code",
   "execution_count": 23,
   "metadata": {
    "colab": {
     "base_uri": "https://localhost:8080/"
    },
    "id": "Sx368Yi_kAGs",
    "outputId": "a6b201f0-2fa7-4adf-dfc8-fc6094315ac4"
   },
   "outputs": [
    {
     "data": {
      "text/plain": [
       "array([[0.04324015, 0.03885657]])"
      ]
     },
     "execution_count": 23,
     "metadata": {},
     "output_type": "execute_result"
    }
   ],
   "source": [
    "trainResRowX, testResRowX, trainResRowY, testResRowY = train_test_split(resRowX, numpyY, train_size = 0.7, shuffle = True) #split the train and test data\n",
    "regLinearResRow = linear_model.Lasso(alpha=0.1)\n",
    "regLinearResRow.fit(trainResRowX, trainResRowY) #train model\n",
    "predLinearResRowY = regLinearResRow.predict(testResRowX) #predict Y\n",
    "calError(testResRowY, predLinearResRowY)"
   ]
  },
  {
   "cell_type": "code",
   "execution_count": 24,
   "metadata": {
    "colab": {
     "base_uri": "https://localhost:8080/"
    },
    "id": "KxE-uww1kBWA",
    "outputId": "1ca025fb-91fd-472a-c216-7a2f7419ca32"
   },
   "outputs": [
    {
     "data": {
      "text/plain": [
       "array([[0.02741666, 0.02792092]])"
      ]
     },
     "execution_count": 24,
     "metadata": {},
     "output_type": "execute_result"
    }
   ],
   "source": [
    "trainResColumnX, testResColumnX, trainResColumnY, testResColumnY = train_test_split(resColumnX, numpyY, train_size = 0.7, shuffle = True) #split the train and test data\n",
    "regLinearResColumn = linear_model.Lasso(alpha=0.1)\n",
    "regLinearResColumn.fit(trainResColumnX, trainResColumnY) #train model\n",
    "predLinearResColumnY = regLinearResColumn.predict(testResColumnX) #predict Y\n",
    "calError(testResColumnY, predLinearResColumnY)"
   ]
  },
  {
   "cell_type": "markdown",
   "metadata": {
    "id": "AzxOc3zeg9Ti"
   },
   "source": [
    "##### Random forest regression with Restriction to Interval"
   ]
  },
  {
   "cell_type": "code",
   "execution_count": 9,
   "metadata": {
    "id": "xuJcOZA6ALya"
   },
   "outputs": [
    {
     "name": "stderr",
     "output_type": "stream",
     "text": [
      "D:\\Anaconda\\lib\\site-packages\\sklearn\\ensemble\\forest.py:245: FutureWarning: The default value of n_estimators will change from 10 in version 0.20 to 100 in 0.22.\n",
      "  \"10 in version 0.20 to 100 in 0.22.\", FutureWarning)\n"
     ]
    },
    {
     "data": {
      "text/plain": [
       "array([[0.02304227, 0.02461528]])"
      ]
     },
     "execution_count": 9,
     "metadata": {},
     "output_type": "execute_result"
    }
   ],
   "source": [
    "regRFResRow = RandomForestRegressor()\n",
    "regRFResRow.fit(trainResRowX, trainResRowY) \n",
    "predRFResRowY = regRFResRow.predict(testResRowX) \n",
    "calError(testResRowY, predRFResRowY)"
   ]
  },
  {
   "cell_type": "code",
   "execution_count": 12,
   "metadata": {
    "id": "tpsAocdAAMCj"
   },
   "outputs": [
    {
     "name": "stderr",
     "output_type": "stream",
     "text": [
      "D:\\Anaconda\\lib\\site-packages\\sklearn\\ensemble\\forest.py:245: FutureWarning: The default value of n_estimators will change from 10 in version 0.20 to 100 in 0.22.\n",
      "  \"10 in version 0.20 to 100 in 0.22.\", FutureWarning)\n"
     ]
    },
    {
     "data": {
      "text/plain": [
       "array([[0.02249411, 0.02384213]])"
      ]
     },
     "execution_count": 12,
     "metadata": {},
     "output_type": "execute_result"
    }
   ],
   "source": [
    "regRFResColumn = RandomForestRegressor()\n",
    "regRFResColumn.fit(trainResColumnX, trainResColumnY) \n",
    "predRFResColumnY = regRFResColumn.predict(testResColumnX)\n",
    "calError(testResColumnY, predRFResColumnY)"
   ]
  },
  {
   "cell_type": "markdown",
   "metadata": {},
   "source": [
    "##### Neural network regression with Restriction to Interval"
   ]
  },
  {
   "cell_type": "code",
   "execution_count": 34,
   "metadata": {},
   "outputs": [
    {
     "name": "stdout",
     "output_type": "stream",
     "text": [
      "20273/20273 [==============================] - 1s 52us/step\n"
     ]
    },
    {
     "data": {
      "text/plain": [
       "array([[0.02453405, 0.02526232]])"
      ]
     },
     "execution_count": 34,
     "metadata": {},
     "output_type": "execute_result"
    }
   ],
   "source": [
    "model.fit(trainResRowX, trainResRowY, epochs=100, batch_size=50, verbose=0, validation_split=0.1) \n",
    "model.evaluate(trainResRowX, trainResRowY)\n",
    "predNNResRowY = model.predict(testResRowX)\n",
    "calError(testResRowY, predNNResRowY)"
   ]
  },
  {
   "cell_type": "code",
   "execution_count": 35,
   "metadata": {},
   "outputs": [
    {
     "name": "stdout",
     "output_type": "stream",
     "text": [
      "20273/20273 [==============================] - 1s 51us/step\n"
     ]
    },
    {
     "data": {
      "text/plain": [
       "array([[0.02337533, 0.024789  ]])"
      ]
     },
     "execution_count": 35,
     "metadata": {},
     "output_type": "execute_result"
    }
   ],
   "source": [
    "model.fit(trainResColumnX, trainResColumnY, epochs=100, batch_size=50, verbose=0, validation_split=0.1) \n",
    "model.evaluate(trainResColumnX, trainResColumnY)\n",
    "predNNResColumnY = model.predict(testResColumnX)\n",
    "calError(testResColumnY, predNNResColumnY)"
   ]
  },
  {
   "cell_type": "markdown",
   "metadata": {},
   "source": [
    "# ---------------------------------------------------------------------------------------------------------------"
   ]
  },
  {
   "cell_type": "markdown",
   "metadata": {
    "id": "CUEtNkJYhqFv"
   },
   "source": [
    "##### Linear regression with Standardization"
   ]
  },
  {
   "cell_type": "code",
   "execution_count": 28,
   "metadata": {
    "colab": {
     "base_uri": "https://localhost:8080/"
    },
    "id": "CUwuaS9AvOM_",
    "outputId": "c501324e-fa91-49d3-d60c-2ca786a85760"
   },
   "outputs": [
    {
     "data": {
      "text/plain": [
       "array([[0.02729743, 0.02861708]])"
      ]
     },
     "execution_count": 28,
     "metadata": {},
     "output_type": "execute_result"
    }
   ],
   "source": [
    "trainStdRowX, testStdRowX, trainStdRowY, testStdRowY = train_test_split(stdRowX, numpyY, train_size = 0.7, shuffle = True) #split the train and test data\n",
    "regLinearStdRow = linear_model.Lasso(alpha=0.1)\n",
    "regLinearStdRow.fit(trainStdRowX, trainStdRowY) #train model\n",
    "predLinearStdRowY = regLinearStdRow.predict(testStdRowX) #predict Y\n",
    "calError(testStdRowY, predLinearStdRowY)"
   ]
  },
  {
   "cell_type": "code",
   "execution_count": 29,
   "metadata": {
    "colab": {
     "base_uri": "https://localhost:8080/"
    },
    "id": "SY3K5urflMEJ",
    "outputId": "c8c5ae5e-1157-4d1d-ff07-2c492c11d6e9"
   },
   "outputs": [
    {
     "name": "stderr",
     "output_type": "stream",
     "text": [
      "D:\\Anaconda\\lib\\site-packages\\sklearn\\linear_model\\coordinate_descent.py:475: ConvergenceWarning: Objective did not converge. You might want to increase the number of iterations. Duality gap: 110.62911679444369, tolerance: 104.46367030425012\n",
      "  positive)\n"
     ]
    },
    {
     "data": {
      "text/plain": [
       "array([[0.02430381, 0.02548407]])"
      ]
     },
     "execution_count": 29,
     "metadata": {},
     "output_type": "execute_result"
    }
   ],
   "source": [
    "trainStdColumnX, testStdColumnX, trainStdColumnY, testStdColumnY = train_test_split(stdColumnX, numpyY, train_size = 0.7, shuffle = True) #split the train and test data\n",
    "regLinearStdColumn = linear_model.Lasso(alpha=0.1)\n",
    "regLinearStdColumn.fit(trainStdColumnX, trainStdColumnY) #train model\n",
    "predLinearStdColumnY = regLinearStdColumn.predict(testStdColumnX) #predict Y\n",
    "calError(testStdColumnY, predLinearStdColumnY)"
   ]
  },
  {
   "cell_type": "markdown",
   "metadata": {
    "id": "vWf2MkXhgxoy"
   },
   "source": [
    "##### Random forest regression with Standardization"
   ]
  },
  {
   "cell_type": "code",
   "execution_count": 30,
   "metadata": {
    "id": "L6_tFoKLgw1D"
   },
   "outputs": [
    {
     "name": "stderr",
     "output_type": "stream",
     "text": [
      "D:\\Anaconda\\lib\\site-packages\\sklearn\\ensemble\\forest.py:245: FutureWarning: The default value of n_estimators will change from 10 in version 0.20 to 100 in 0.22.\n",
      "  \"10 in version 0.20 to 100 in 0.22.\", FutureWarning)\n"
     ]
    },
    {
     "data": {
      "text/plain": [
       "array([[0.02486032, 0.02687601]])"
      ]
     },
     "execution_count": 30,
     "metadata": {},
     "output_type": "execute_result"
    }
   ],
   "source": [
    "regRFStdRow = RandomForestRegressor()\n",
    "regRFStdRow.fit(trainStdRowX, trainStdRowY) \n",
    "predRFStdRowY = regRFStdRow.predict(testStdRowX) \n",
    "calError(testStdRowY, predRFStdRowY)"
   ]
  },
  {
   "cell_type": "code",
   "execution_count": 31,
   "metadata": {
    "id": "wmAnQfQigxCA"
   },
   "outputs": [
    {
     "name": "stderr",
     "output_type": "stream",
     "text": [
      "D:\\Anaconda\\lib\\site-packages\\sklearn\\ensemble\\forest.py:245: FutureWarning: The default value of n_estimators will change from 10 in version 0.20 to 100 in 0.22.\n",
      "  \"10 in version 0.20 to 100 in 0.22.\", FutureWarning)\n"
     ]
    },
    {
     "data": {
      "text/plain": [
       "array([[0.02228449, 0.02369961]])"
      ]
     },
     "execution_count": 31,
     "metadata": {},
     "output_type": "execute_result"
    }
   ],
   "source": [
    "regRFStdColumn = RandomForestRegressor()\n",
    "regRFStdColumn.fit(trainStdColumnX, trainStdColumnY) #train model\n",
    "predRFStdColumnY = regRFStdColumn.predict(testStdColumnX) #predict Y\n",
    "calError(testStdColumnY, predRFStdColumnY)"
   ]
  },
  {
   "cell_type": "markdown",
   "metadata": {},
   "source": [
    "##### Neural network regression with Standardization"
   ]
  },
  {
   "cell_type": "code",
   "execution_count": 36,
   "metadata": {},
   "outputs": [
    {
     "name": "stdout",
     "output_type": "stream",
     "text": [
      "20273/20273 [==============================] - 1s 49us/step\n"
     ]
    },
    {
     "data": {
      "text/plain": [
       "array([[0.02894911, 0.03121109]])"
      ]
     },
     "execution_count": 36,
     "metadata": {},
     "output_type": "execute_result"
    }
   ],
   "source": [
    "model.fit(trainStdRowX, trainStdRowY, epochs=100, batch_size=50, verbose=0, validation_split=0.1) \n",
    "model.evaluate(trainStdRowX, trainStdRowY)\n",
    "predNNStdRowY = model.predict(testStdRowX)\n",
    "calError(testStdRowY, predNNStdRowY)"
   ]
  },
  {
   "cell_type": "code",
   "execution_count": 37,
   "metadata": {},
   "outputs": [
    {
     "name": "stdout",
     "output_type": "stream",
     "text": [
      "20273/20273 [==============================] - ETA:  - 1s 50us/step\n"
     ]
    },
    {
     "data": {
      "text/plain": [
       "array([[0.02485137, 0.02601571]])"
      ]
     },
     "execution_count": 37,
     "metadata": {},
     "output_type": "execute_result"
    }
   ],
   "source": [
    "model.fit(trainStdColumnX, trainStdColumnY, epochs=100, batch_size=50, verbose=0, validation_split=0.1) \n",
    "model.evaluate(trainStdColumnX, trainStdColumnY)\n",
    "predNNStdColumnY = model.predict(testStdColumnX)\n",
    "calError(testStdColumnY, predNNStdColumnY)"
   ]
  },
  {
   "cell_type": "markdown",
   "metadata": {},
   "source": [
    "# ---------------------------------------------------------------------------------------------------------------"
   ]
  },
  {
   "cell_type": "code",
   "execution_count": 13,
   "metadata": {},
   "outputs": [
    {
     "data": {
      "image/png": "[encoded data removed]",
      "text/plain": [
       "<Figure size 432x288 with 1 Axes>"
      ]
     },
     "metadata": {
      "needs_background": "light"
     },
     "output_type": "display_data"
    }
   ],
   "source": [
    "linearReadsAvg = [0.02308785,0.04269372,0.04393602,0.04324015,0.02741666,0.02729743,0.02430381]\n",
    "rfReadsAvg = [0.02094821,0.02119296,0.02114556,0.02304227,0.02249411,0.02486032,0.02228449]\n",
    "nnReadsAvg = [0.02984006,0.02500836,0.02448958,0.02453405,0.02337533,0.02894911,0.02485137]\n",
    "names = ['Origin', 'L2-row', 'L2-col', 'Res-row', 'Res-col', 'Std-row', 'Std-col']\n",
    "plt.plot(names, linearReadsAvg, '-o', label = 'Linear')\n",
    "plt.plot(names, rfReadsAvg, '-o', label = 'Random Forest')\n",
    "plt.plot(names, nnReadsAvg, '-o', label = 'Neural Network')\n",
    "plt.xlabel('Pre-processing method')\n",
    "plt.ylabel('Normalized Mean Absolute Error')\n",
    "plt.legend()\n",
    "plt.title('NMAE of ReadsAvg VS Pre-proccessing Training Data')\n",
    "plt.grid()\n",
    "plt.grid(axis='x')\n",
    "plt.show()"
   ]
  },
  {
   "cell_type": "markdown",
   "metadata": {
    "id": "3W3hkN_Yi98p"
   },
   "source": [
    "##### Outlier Removal"
   ]
  },
  {
   "cell_type": "code",
   "execution_count": 8,
   "metadata": {
    "id": "NUfgk6fxiUpf"
   },
   "outputs": [],
   "source": [
    "listDelete =[[] for e in range(10)]\n",
    "thresholdT = [10,20,30,40,50,60,70,80,90,100]\n",
    "for T in range(10):\n",
    "    for i in range(stdColumnX.shape[0]):\n",
    "        if abs(np.max(stdColumnX[i])) > thresholdT[T] or abs(np.min(stdColumnX[i])) > thresholdT[T]:\n",
    "            listDelete[T].append(i)"
   ]
  },
  {
   "cell_type": "code",
   "execution_count": 58,
   "metadata": {},
   "outputs": [
    {
     "name": "stderr",
     "output_type": "stream",
     "text": [
      "D:\\Anaconda\\lib\\site-packages\\sklearn\\ensemble\\forest.py:245: FutureWarning: The default value of n_estimators will change from 10 in version 0.20 to 100 in 0.22.\n",
      "  \"10 in version 0.20 to 100 in 0.22.\", FutureWarning)\n"
     ]
    },
    {
     "data": {
      "text/plain": [
       "array([[0.02054678, 0.02121958]])"
      ]
     },
     "execution_count": 58,
     "metadata": {},
     "output_type": "execute_result"
    }
   ],
   "source": [
    "trainXT10 = np.delete(stdColumnX, listDelete[0], 0)\n",
    "trainYT10 = np.delete(numpyY, listDelete[0], 0)\n",
    "trainT10X, testT10X, trainT10Y, testT10Y = train_test_split(trainXT10, trainYT10, train_size = 0.7, shuffle = True)\n",
    "regRFT10 = RandomForestRegressor()\n",
    "regRFT10.fit(trainT10X, trainT10Y) #train model\n",
    "predRFT10Y = regRFT10.predict(testT10X) #predict Y\n",
    "calError(testT10Y, predRFT10Y)"
   ]
  },
  {
   "cell_type": "code",
   "execution_count": 11,
   "metadata": {},
   "outputs": [
    {
     "name": "stderr",
     "output_type": "stream",
     "text": [
      "D:\\Anaconda\\lib\\site-packages\\sklearn\\ensemble\\forest.py:245: FutureWarning: The default value of n_estimators will change from 10 in version 0.20 to 100 in 0.22.\n",
      "  \"10 in version 0.20 to 100 in 0.22.\", FutureWarning)\n"
     ]
    },
    {
     "data": {
      "text/plain": [
       "array([[0.0211288, 0.0221392]])"
      ]
     },
     "execution_count": 11,
     "metadata": {},
     "output_type": "execute_result"
    }
   ],
   "source": [
    "trainXT20 = np.delete(stdColumnX, listDelete[1], 0)\n",
    "trainYT20 = np.delete(numpyY, listDelete[1], 0)\n",
    "trainT20X, testT20X, trainT20Y, testT20Y = train_test_split(trainXT20, trainYT20, train_size = 0.7, shuffle = True)\n",
    "regRFT20 = RandomForestRegressor()\n",
    "regRFT20.fit(trainT20X, trainT20Y) #train model\n",
    "predRFT20Y = regRFT20.predict(testT20X) #predict Y\n",
    "calError(testT20Y, predRFT20Y)"
   ]
  },
  {
   "cell_type": "code",
   "execution_count": 12,
   "metadata": {},
   "outputs": [
    {
     "name": "stderr",
     "output_type": "stream",
     "text": [
      "D:\\Anaconda\\lib\\site-packages\\sklearn\\ensemble\\forest.py:245: FutureWarning: The default value of n_estimators will change from 10 in version 0.20 to 100 in 0.22.\n",
      "  \"10 in version 0.20 to 100 in 0.22.\", FutureWarning)\n"
     ]
    },
    {
     "data": {
      "text/plain": [
       "array([[0.02148389, 0.02268482]])"
      ]
     },
     "execution_count": 12,
     "metadata": {},
     "output_type": "execute_result"
    }
   ],
   "source": [
    "trainXT30 = np.delete(stdColumnX, listDelete[2], 0)\n",
    "trainYT30 = np.delete(numpyY, listDelete[2], 0)\n",
    "trainT30X, testT30X, trainT30Y, testT30Y = train_test_split(trainXT30, trainYT30, train_size = 0.7, shuffle = True)\n",
    "regRFT30 = RandomForestRegressor()\n",
    "regRFT30.fit(trainT30X, trainT30Y) #train model\n",
    "predRFT30Y = regRFT30.predict(testT30X) #predict Y\n",
    "calError(testT30Y, predRFT30Y)"
   ]
  },
  {
   "cell_type": "code",
   "execution_count": 13,
   "metadata": {},
   "outputs": [
    {
     "name": "stderr",
     "output_type": "stream",
     "text": [
      "D:\\Anaconda\\lib\\site-packages\\sklearn\\ensemble\\forest.py:245: FutureWarning: The default value of n_estimators will change from 10 in version 0.20 to 100 in 0.22.\n",
      "  \"10 in version 0.20 to 100 in 0.22.\", FutureWarning)\n"
     ]
    },
    {
     "data": {
      "text/plain": [
       "array([[0.02181067, 0.02290507]])"
      ]
     },
     "execution_count": 13,
     "metadata": {},
     "output_type": "execute_result"
    }
   ],
   "source": [
    "trainXT40 = np.delete(stdColumnX, listDelete[3], 0)\n",
    "trainYT40 = np.delete(numpyY, listDelete[3], 0)\n",
    "trainT40X, testT40X, trainT40Y, testT40Y = train_test_split(trainXT40, trainYT40, train_size = 0.7, shuffle = True)\n",
    "regRFT40 = RandomForestRegressor()\n",
    "regRFT40.fit(trainT40X, trainT40Y) #train model\n",
    "predRFT40Y = regRFT40.predict(testT40X) #predict Y\n",
    "calError(testT40Y, predRFT40Y)"
   ]
  },
  {
   "cell_type": "code",
   "execution_count": 14,
   "metadata": {},
   "outputs": [
    {
     "name": "stderr",
     "output_type": "stream",
     "text": [
      "D:\\Anaconda\\lib\\site-packages\\sklearn\\ensemble\\forest.py:245: FutureWarning: The default value of n_estimators will change from 10 in version 0.20 to 100 in 0.22.\n",
      "  \"10 in version 0.20 to 100 in 0.22.\", FutureWarning)\n"
     ]
    },
    {
     "data": {
      "text/plain": [
       "array([[0.02178788, 0.02293523]])"
      ]
     },
     "execution_count": 14,
     "metadata": {},
     "output_type": "execute_result"
    }
   ],
   "source": [
    "trainXT50 = np.delete(stdColumnX, listDelete[4], 0)\n",
    "trainYT50 = np.delete(numpyY, listDelete[4], 0)\n",
    "trainT50X, testT50X, trainT50Y, testT50Y = train_test_split(trainXT50, trainYT50, train_size = 0.7, shuffle = True)\n",
    "regRFT50 = RandomForestRegressor()\n",
    "regRFT50.fit(trainT50X, trainT50Y) #train model\n",
    "predRFT50Y = regRFT50.predict(testT50X) #predict Y\n",
    "calError(testT50Y, predRFT50Y)"
   ]
  },
  {
   "cell_type": "code",
   "execution_count": 15,
   "metadata": {},
   "outputs": [
    {
     "name": "stderr",
     "output_type": "stream",
     "text": [
      "D:\\Anaconda\\lib\\site-packages\\sklearn\\ensemble\\forest.py:245: FutureWarning: The default value of n_estimators will change from 10 in version 0.20 to 100 in 0.22.\n",
      "  \"10 in version 0.20 to 100 in 0.22.\", FutureWarning)\n"
     ]
    },
    {
     "data": {
      "text/plain": [
       "array([[0.02176398, 0.02305089]])"
      ]
     },
     "execution_count": 15,
     "metadata": {},
     "output_type": "execute_result"
    }
   ],
   "source": [
    "trainXT60 = np.delete(stdColumnX, listDelete[5], 0)\n",
    "trainYT60 = np.delete(numpyY, listDelete[5], 0)\n",
    "trainT60X, testT60X, trainT60Y, testT60Y = train_test_split(trainXT60, trainYT60, train_size = 0.7, shuffle = True)\n",
    "regRFT60 = RandomForestRegressor()\n",
    "regRFT60.fit(trainT60X, trainT60Y) #train model\n",
    "predRFT60Y = regRFT60.predict(testT60X) #predict Y\n",
    "calError(testT60Y, predRFT60Y)"
   ]
  },
  {
   "cell_type": "code",
   "execution_count": 16,
   "metadata": {},
   "outputs": [
    {
     "name": "stderr",
     "output_type": "stream",
     "text": [
      "D:\\Anaconda\\lib\\site-packages\\sklearn\\ensemble\\forest.py:245: FutureWarning: The default value of n_estimators will change from 10 in version 0.20 to 100 in 0.22.\n",
      "  \"10 in version 0.20 to 100 in 0.22.\", FutureWarning)\n"
     ]
    },
    {
     "data": {
      "text/plain": [
       "array([[0.0221438, 0.0231861]])"
      ]
     },
     "execution_count": 16,
     "metadata": {},
     "output_type": "execute_result"
    }
   ],
   "source": [
    "trainXT70 = np.delete(stdColumnX, listDelete[6], 0)\n",
    "trainYT70 = np.delete(numpyY, listDelete[6], 0)\n",
    "trainT70X, testT70X, trainT70Y, testT70Y = train_test_split(trainXT70, trainYT70, train_size = 0.7, shuffle = True)\n",
    "regRFT70 = RandomForestRegressor()\n",
    "regRFT70.fit(trainT70X, trainT70Y) #train model\n",
    "predRFT70Y = regRFT70.predict(testT70X) #predict Y\n",
    "calError(testT70Y, predRFT70Y)"
   ]
  },
  {
   "cell_type": "code",
   "execution_count": 17,
   "metadata": {},
   "outputs": [
    {
     "name": "stderr",
     "output_type": "stream",
     "text": [
      "D:\\Anaconda\\lib\\site-packages\\sklearn\\ensemble\\forest.py:245: FutureWarning: The default value of n_estimators will change from 10 in version 0.20 to 100 in 0.22.\n",
      "  \"10 in version 0.20 to 100 in 0.22.\", FutureWarning)\n"
     ]
    },
    {
     "data": {
      "text/plain": [
       "array([[0.02200825, 0.02347046]])"
      ]
     },
     "execution_count": 17,
     "metadata": {},
     "output_type": "execute_result"
    }
   ],
   "source": [
    "trainXT80 = np.delete(stdColumnX, listDelete[7], 0)\n",
    "trainYT80 = np.delete(numpyY, listDelete[7], 0)\n",
    "trainT80X, testT80X, trainT80Y, testT80Y = train_test_split(trainXT80, trainYT80, train_size = 0.7, shuffle = True)\n",
    "regRFT80 = RandomForestRegressor()\n",
    "regRFT80.fit(trainT80X, trainT80Y) #train model\n",
    "predRFT80Y = regRFT80.predict(testT80X) #predict Y\n",
    "calError(testT80Y, predRFT80Y)"
   ]
  },
  {
   "cell_type": "code",
   "execution_count": 9,
   "metadata": {},
   "outputs": [
    {
     "name": "stderr",
     "output_type": "stream",
     "text": [
      "D:\\Anaconda\\lib\\site-packages\\sklearn\\ensemble\\forest.py:245: FutureWarning: The default value of n_estimators will change from 10 in version 0.20 to 100 in 0.22.\n",
      "  \"10 in version 0.20 to 100 in 0.22.\", FutureWarning)\n"
     ]
    },
    {
     "data": {
      "text/plain": [
       "array([[0.02187422, 0.02294815]])"
      ]
     },
     "execution_count": 9,
     "metadata": {},
     "output_type": "execute_result"
    }
   ],
   "source": [
    "trainXT90 = np.delete(stdColumnX, listDelete[8], 0)\n",
    "trainYT90 = np.delete(numpyY, listDelete[8], 0)\n",
    "trainT90X, testT90X, trainT90Y, testT90Y = train_test_split(trainXT90, trainYT90, train_size = 0.7, shuffle = True)\n",
    "regRFT90 = RandomForestRegressor()\n",
    "regRFT90.fit(trainT90X, trainT90Y) #train model\n",
    "predRFT90Y = regRFT90.predict(testT90X) #predict Y\n",
    "calError(testT90Y, predRFT90Y)"
   ]
  },
  {
   "cell_type": "code",
   "execution_count": 10,
   "metadata": {},
   "outputs": [
    {
     "name": "stderr",
     "output_type": "stream",
     "text": [
      "D:\\Anaconda\\lib\\site-packages\\sklearn\\ensemble\\forest.py:245: FutureWarning: The default value of n_estimators will change from 10 in version 0.20 to 100 in 0.22.\n",
      "  \"10 in version 0.20 to 100 in 0.22.\", FutureWarning)\n"
     ]
    },
    {
     "data": {
      "text/plain": [
       "array([[0.02202474, 0.0235048 ]])"
      ]
     },
     "execution_count": 10,
     "metadata": {},
     "output_type": "execute_result"
    }
   ],
   "source": [
    "trainXT100 = np.delete(stdColumnX, listDelete[9], 0)\n",
    "trainYT100 = np.delete(numpyY, listDelete[9], 0)\n",
    "trainT100X, testT100X, trainT100Y, testT100Y = train_test_split(trainXT100, trainYT100, train_size = 0.7, shuffle = True)\n",
    "regRFT100 = RandomForestRegressor()\n",
    "regRFT100.fit(trainT100X, trainT100Y) #train model\n",
    "predRFT100Y = regRFT100.predict(testT100X) #predict Y\n",
    "calError(testT100Y, predRFT100Y)"
   ]
  },
  {
   "cell_type": "code",
   "execution_count": 12,
   "metadata": {},
   "outputs": [
    {
     "data": {
      "image/png": "[encoded data removed]",
      "text/plain": [
       "<Figure size 432x288 with 1 Axes>"
      ]
     },
     "metadata": {
      "needs_background": "light"
     },
     "output_type": "display_data"
    }
   ],
   "source": [
    "outlierResults = [0.02228449, 0.02054678, 0.0211288, 0.02148389, 0.02181067, 0.02178788, 0.02176398, 0.0221438, 0.02200825, 0.02187422, 0.02202474]\n",
    "names = ['None', '10', '20', '30', '40', '50', '60', '70', '80', '90', '100']\n",
    "plt.plot(names, outlierResults, '-o')\n",
    "plt.xlabel('Outlier removal threshold')\n",
    "plt.ylabel('Normalized Mean Absolute Error')\n",
    "plt.title('NMAE of ReadsAvg VS Outlier Removal Threshold')\n",
    "plt.grid()\n",
    "plt.grid(axis='x')\n",
    "plt.show()"
   ]
  },
  {
   "cell_type": "markdown",
   "metadata": {},
   "source": [
    "# Task 4"
   ]
  },
  {
   "cell_type": "markdown",
   "metadata": {},
   "source": [
    "##### ReadsAvg"
   ]
  },
  {
   "cell_type": "code",
   "execution_count": 17,
   "metadata": {},
   "outputs": [],
   "source": [
    "# L2 normalization in samples is used\n",
    "listDelete =[]\n",
    "thresholdNew = 0.418\n",
    "for i in range(normedColumnX.shape[0]):\n",
    "    if abs(np.max(normedColumnX[i])) > thresholdNew or abs(np.min(normedColumnX[i])) > thresholdNew:\n",
    "        listDelete.append(i)"
   ]
  },
  {
   "cell_type": "code",
   "execution_count": 18,
   "metadata": {},
   "outputs": [
    {
     "data": {
      "text/plain": [
       "0.01001312064083972"
      ]
     },
     "execution_count": 18,
     "metadata": {},
     "output_type": "execute_result"
    }
   ],
   "source": [
    "len(listDelete) / normedColumnX.shape[0] # outliers account for 1% of the whole data "
   ]
  },
  {
   "cell_type": "code",
   "execution_count": 54,
   "metadata": {},
   "outputs": [],
   "source": [
    "dataSetX = np.delete(normedColumnX, listDelete, 0)\n",
    "dataSetY = np.delete(numpyY, listDelete, 0)\n",
    "trainClassX, testClassX, trainClassY, testClassY = train_test_split(dataSetX, dataSetY, train_size = 0.7, shuffle = True) "
   ]
  },
  {
   "cell_type": "code",
   "execution_count": 55,
   "metadata": {},
   "outputs": [],
   "source": [
    "maxY = np.max(trainClassY.T[0])\n",
    "minY = np.min(trainClassY.T[0])\n",
    "countY = np.zeros((1,20))\n",
    "for item in trainClassY.T[0]:\n",
    "    i = (item - minY) // ((maxY - minY)/20)\n",
    "    if i > 19:\n",
    "        i = 19 #The upper bundary of each interval is not in the bin, except the last one.\n",
    "    countY[0][int(i)] += 1\n",
    "#Verify the amount in each bin"
   ]
  },
  {
   "cell_type": "code",
   "execution_count": 56,
   "metadata": {},
   "outputs": [
    {
     "data": {
      "text/plain": [
       "8119.0"
      ]
     },
     "execution_count": 56,
     "metadata": {},
     "output_type": "execute_result"
    }
   ],
   "source": [
    "countY[0][1]"
   ]
  },
  {
   "cell_type": "code",
   "execution_count": 57,
   "metadata": {},
   "outputs": [
    {
     "data": {
      "image/png": "[encoded data removed]",
      "text/plain": [
       "<Figure size 1080x720 with 1 Axes>"
      ]
     },
     "metadata": {
      "needs_background": "light"
     },
     "output_type": "display_data"
    }
   ],
   "source": [
    "your_bins=20\n",
    "data=trainClassY.T[0]\n",
    "fig = plt.figure(figsize =(15, 10)) \n",
    "plt.xlabel('Response Time / ms')\n",
    "plt.ylabel('Number of Samples')\n",
    "plt.title('Histogram of ReadsAvg - 20 Bins')\n",
    "plt.grid()\n",
    "plt.grid(axis='x')\n",
    "arr=plt.hist(data,bins=your_bins)\n",
    "for i in range(your_bins):\n",
    "    plt.text(arr[1][i],arr[0][i],str(arr[0][i]))"
   ]
  },
  {
   "cell_type": "code",
   "execution_count": 58,
   "metadata": {},
   "outputs": [],
   "source": [
    "trainLabelY = np.zeros((trainClassY.shape[0],1))\n",
    "testLabelY = np.zeros((testClassY.shape[0],1))\n",
    "for seq in range(trainClassY.shape[0]):\n",
    "    i = (trainClassY[seq][0] - minY) // ((maxY - minY)/20)\n",
    "    trainLabelY[seq][0] = int(i) \n",
    "for seq in range(testClassY.shape[0]):\n",
    "    i = (testClassY[seq][0]- minY) // ((maxY - minY)/20)\n",
    "    testLabelY[seq][0] = int(i) "
   ]
  },
  {
   "cell_type": "code",
   "execution_count": 59,
   "metadata": {},
   "outputs": [
    {
     "data": {
      "text/plain": [
       "[51.916192499999994,\n",
       " 54.373777499999996,\n",
       " 56.8313625,\n",
       " 59.28894749999999,\n",
       " 61.746532499999994,\n",
       " 64.2041175,\n",
       " 66.66170249999999,\n",
       " 69.1192875,\n",
       " 71.5768725,\n",
       " 74.0344575,\n",
       " 76.4920425,\n",
       " 78.94962749999999,\n",
       " 81.4072125,\n",
       " 83.8647975,\n",
       " 86.3223825,\n",
       " 88.7799675,\n",
       " 91.23755249999999,\n",
       " 93.6951375,\n",
       " 96.1527225,\n",
       " 98.6103075]"
      ]
     },
     "execution_count": 59,
     "metadata": {},
     "output_type": "execute_result"
    }
   ],
   "source": [
    "avgValue = []\n",
    "for i in range(20):\n",
    "    avgValue.append(minY + (maxY - minY) / 20 / 2 + i * (maxY - minY) / 20)\n",
    "avgValue"
   ]
  },
  {
   "cell_type": "code",
   "execution_count": 60,
   "metadata": {},
   "outputs": [
    {
     "name": "stdout",
     "output_type": "stream",
     "text": [
      "Unused bins are:\n",
      "13\n",
      "17\n"
     ]
    }
   ],
   "source": [
    "# Check which bins has no input samples\n",
    "flags= np.zeros((1,20))\n",
    "for i in trainLabelY:\n",
    "    flags[0][int(i)] = 1\n",
    "print(\"Unused bins are:\")\n",
    "for j in range(20):\n",
    "    if flags[0][j] == 0:\n",
    "        print(j)"
   ]
  },
  {
   "cell_type": "code",
   "execution_count": 62,
   "metadata": {},
   "outputs": [
    {
     "data": {
      "text/plain": [
       "array([1., 3., 2., ..., 1., 2., 1.])"
      ]
     },
     "execution_count": 62,
     "metadata": {},
     "output_type": "execute_result"
    }
   ],
   "source": [
    "trainLabelY = np.ravel(trainLabelY)\n",
    "trainLabelY"
   ]
  },
  {
   "cell_type": "code",
   "execution_count": 63,
   "metadata": {},
   "outputs": [
    {
     "data": {
      "text/plain": [
       "RandomForestClassifier(bootstrap=True, class_weight=None, criterion='gini',\n",
       "                       max_depth=25, max_features='auto', max_leaf_nodes=None,\n",
       "                       min_impurity_decrease=0.0, min_impurity_split=None,\n",
       "                       min_samples_leaf=1, min_samples_split=2,\n",
       "                       min_weight_fraction_leaf=0.0, n_estimators=100,\n",
       "                       n_jobs=None, oob_score=False, random_state=None,\n",
       "                       verbose=0, warm_start=False)"
      ]
     },
     "execution_count": 63,
     "metadata": {},
     "output_type": "execute_result"
    }
   ],
   "source": [
    "clf = RandomForestClassifier(n_estimators=100, max_depth=25)\n",
    "clf.fit(trainClassX, trainLabelY)"
   ]
  },
  {
   "cell_type": "code",
   "execution_count": 64,
   "metadata": {},
   "outputs": [],
   "source": [
    "predicted_prob = clf.predict_proba(testClassX)\n",
    "predicted_class = clf.predict(testClassX)"
   ]
  },
  {
   "cell_type": "code",
   "execution_count": 65,
   "metadata": {},
   "outputs": [
    {
     "data": {
      "text/plain": [
       "(8602, 18)"
      ]
     },
     "execution_count": 65,
     "metadata": {},
     "output_type": "execute_result"
    }
   ],
   "source": [
    "predicted_prob.shape"
   ]
  },
  {
   "cell_type": "code",
   "execution_count": 82,
   "metadata": {},
   "outputs": [
    {
     "name": "stdout",
     "output_type": "stream",
     "text": [
      "161\n",
      "267\n",
      "487\n",
      "654\n",
      "701\n",
      "711\n",
      "825\n"
     ]
    }
   ],
   "source": [
    "for i in range(1000):\n",
    "    if predicted_class[i] > 5:\n",
    "        print(i)"
   ]
  },
  {
   "cell_type": "code",
   "execution_count": 67,
   "metadata": {},
   "outputs": [
    {
     "data": {
      "text/plain": [
       "[0.26663210019966715,\n",
       " 0.6514879139941416,\n",
       " 0.06177098547991061,\n",
       " 6.514067715784454e-05,\n",
       " 0.0,\n",
       " 0.01,\n",
       " 0.010043859649122806,\n",
       " 0.0,\n",
       " 0.0,\n",
       " 0.0,\n",
       " 0.0,\n",
       " 0.0,\n",
       " 0.0,\n",
       " 0.0,\n",
       " 0.0,\n",
       " 0.0,\n",
       " 0.0,\n",
       " 0.0,\n",
       " 0.0,\n",
       " 0.0]"
      ]
     },
     "execution_count": 67,
     "metadata": {},
     "output_type": "execute_result"
    }
   ],
   "source": [
    "hist1 = np.ravel(predicted_prob[0]).tolist()\n",
    "hist1.insert(13,0.0)\n",
    "hist1.insert(17,0.0)\n",
    "hist1"
   ]
  },
  {
   "cell_type": "code",
   "execution_count": 68,
   "metadata": {},
   "outputs": [
    {
     "data": {
      "image/png": "[encoded data removed]",
      "text/plain": [
       "<Figure size 1080x720 with 1 Axes>"
      ]
     },
     "metadata": {
      "needs_background": "light"
     },
     "output_type": "display_data"
    }
   ],
   "source": [
    "fig = plt.figure(figsize =(15, 10)) \n",
    "bins = [str(round(item, 2)) for item in avgValue] \n",
    "binDensity  = hist1\n",
    "plt.bar(bins, binDensity)\n",
    "plt.xlabel('Response Time / ms')\n",
    "plt.ylabel('Probability')\n",
    "plt.title('Histogram of ReadsAvg - 20 Bins')\n",
    "plt.grid()\n",
    "plt.grid(axis='x')\n",
    "for a,b in zip(bins, binDensity):\n",
    "    plt.text(a, b+0.01, '%.2f' % b, ha='center', va= 'bottom',fontsize=10)\n",
    "plt.show()"
   ]
  },
  {
   "cell_type": "code",
   "execution_count": 83,
   "metadata": {},
   "outputs": [
    {
     "data": {
      "text/plain": [
       "[0.0,\n",
       " 0.0,\n",
       " 0.0,\n",
       " 0.02,\n",
       " 0.09,\n",
       " 0.2,\n",
       " 0.4,\n",
       " 0.23,\n",
       " 0.02,\n",
       " 0.02,\n",
       " 0.0,\n",
       " 0.0,\n",
       " 0.01,\n",
       " 0.0,\n",
       " 0.0,\n",
       " 0.01,\n",
       " 0.0,\n",
       " 0.0,\n",
       " 0.0,\n",
       " 0.0]"
      ]
     },
     "execution_count": 83,
     "metadata": {},
     "output_type": "execute_result"
    }
   ],
   "source": [
    "hist2 = np.ravel(predicted_prob[161]).tolist()\n",
    "hist2.insert(13,0.0)\n",
    "hist2.insert(17,0.0)\n",
    "hist2"
   ]
  },
  {
   "cell_type": "code",
   "execution_count": 84,
   "metadata": {},
   "outputs": [
    {
     "data": {
      "image/png": "[encoded data removed]",
      "text/plain": [
       "<Figure size 1080x720 with 1 Axes>"
      ]
     },
     "metadata": {
      "needs_background": "light"
     },
     "output_type": "display_data"
    }
   ],
   "source": [
    "fig = plt.figure(figsize =(15, 10)) \n",
    "bins = [str(round(item, 2)) for item in avgValue] \n",
    "binDensity  = hist2\n",
    "plt.bar(bins, binDensity)\n",
    "plt.xlabel('Response Time / ms')\n",
    "plt.ylabel('Probability')\n",
    "plt.title('Histogram of ReadsAvg - 20 Bins')\n",
    "plt.grid()\n",
    "plt.grid(axis='x')\n",
    "for a,b in zip(bins, binDensity):\n",
    "    plt.text(a, b+0.01, '%.2f' % b, ha='center', va= 'bottom',fontsize=10)\n",
    "plt.show()"
   ]
  },
  {
   "cell_type": "code",
   "execution_count": 85,
   "metadata": {},
   "outputs": [],
   "source": [
    "usedBins = list(filter(lambda x : x!= 11  and x!= 17 , np.arange(20))) #used bins\n",
    "expPredY = np.zeros((predicted_class.shape[0],2))\n",
    "for i in range(predicted_prob.shape[0]):\n",
    "    for j in range(len(usedBins)):\n",
    "        expPredY[i][0] += avgValue[usedBins[j]] * predicted_prob[i][j]"
   ]
  },
  {
   "cell_type": "code",
   "execution_count": 72,
   "metadata": {},
   "outputs": [
    {
     "name": "stdout",
     "output_type": "stream",
     "text": [
      "NMAE of ReadsAvg is:\n"
     ]
    },
    {
     "data": {
      "text/plain": [
       "0.020929610003657943"
      ]
     },
     "execution_count": 72,
     "metadata": {},
     "output_type": "execute_result"
    }
   ],
   "source": [
    "print(\"NMAE of ReadsAvg is:\")\n",
    "calError(testClassY, expPredY)[0][0]"
   ]
  },
  {
   "cell_type": "markdown",
   "metadata": {},
   "source": [
    "##### WritesAvg"
   ]
  },
  {
   "cell_type": "code",
   "execution_count": 72,
   "metadata": {},
   "outputs": [],
   "source": [
    "maxY1 = np.max(trainClassY.T[1])\n",
    "minY1 = np.min(trainClassY.T[1])\n",
    "countY1 = np.zeros((1,20))\n",
    "for item in trainClassY.T[1]:\n",
    "    i = (item - minY1) // ((maxY1 - minY1)/20)\n",
    "    if i > 19:\n",
    "        i = 19 #The upper bundary of each interval is not in the bin, except the last one.\n",
    "    countY1[0][int(i)] += 1\n",
    "#Verify the amount in each bin"
   ]
  },
  {
   "cell_type": "code",
   "execution_count": 87,
   "metadata": {},
   "outputs": [
    {
     "data": {
      "text/plain": [
       "12487.0"
      ]
     },
     "execution_count": 87,
     "metadata": {},
     "output_type": "execute_result"
    }
   ],
   "source": [
    "countY1[0][0]"
   ]
  },
  {
   "cell_type": "code",
   "execution_count": 90,
   "metadata": {},
   "outputs": [
    {
     "data": {
      "image/png": "[encoded data removed]",
      "text/plain": [
       "<Figure size 1080x720 with 1 Axes>"
      ]
     },
     "metadata": {
      "needs_background": "light"
     },
     "output_type": "display_data"
    }
   ],
   "source": [
    "your_bins=20\n",
    "data=trainClassY.T[1]\n",
    "fig = plt.figure(figsize =(15, 10)) \n",
    "plt.xlabel('Response Time / ms')\n",
    "plt.ylabel('Number of Samples')\n",
    "plt.title('Histogram of WritesAvg - 20 Bins')\n",
    "plt.grid()\n",
    "plt.grid(axis='x')\n",
    "arr=plt.hist(data,bins=your_bins)\n",
    "for i in range(your_bins):\n",
    "    plt.text(arr[1][i],arr[0][i],str(arr[0][i]))"
   ]
  },
  {
   "cell_type": "code",
   "execution_count": null,
   "metadata": {},
   "outputs": [],
   "source": []
  }
 ],
 "metadata": {
  "accelerator": "GPU",
  "colab": {
   "collapsed_sections": [],
   "name": "Project1.ipynb",
   "provenance": []
  },
  "kernelspec": {
   "display_name": "Python 3",
   "language": "python",
   "name": "python3"
  },
  "language_info": {
   "codemirror_mode": {
    "name": "ipython",
    "version": 3
   },
   "file_extension": ".py",
   "mimetype": "text/x-python",
   "name": "python",
   "nbconvert_exporter": "python",
   "pygments_lexer": "ipython3",
   "version": "3.7.4"
  }
 },
 "nbformat": 4,
 "nbformat_minor": 1
}
