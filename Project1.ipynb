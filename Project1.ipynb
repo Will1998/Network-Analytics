{
 "cells": [
  {
   "cell_type": "code",
   "execution_count": 197,
   "metadata": {},
   "outputs": [],
   "source": [
    "import numpy as np\n",
    "import pandas as pd\n",
    "import random\n",
    "import os\n",
    "from sklearn import preprocessing\n",
    "from sklearn.linear_model import LinearRegression\n",
    "from sklearn.ensemble import RandomForestRegressor\n",
    "from sklearn.neural_network import MLPRegressor\n",
    "from sklearn.model_selection import train_test_split"
   ]
  },
  {
   "cell_type": "markdown",
   "metadata": {},
   "source": [
    "# Task 1\n",
    "### Question 1"
   ]
  },
  {
   "cell_type": "code",
   "execution_count": 74,
   "metadata": {},
   "outputs": [
    {
     "name": "stdout",
     "output_type": "stream",
     "text": [
      "The shape of X.csv is:\n",
      "(28962, 1752)\n",
      "The shape of Y.csv is:\n",
      "(28962, 3)\n"
     ]
    }
   ],
   "source": [
    "X = pd.read_csv('../Project1/KV_periodic/X.csv')\n",
    "Y = pd.read_csv('../Project1/KV_periodic/Y.csv')\n",
    "print(\"The shape of X.csv is:\")\n",
    "print(X.shape)\n",
    "print(\"The shape of Y.csv is:\")\n",
    "print(Y.shape)"
   ]
  },
  {
   "cell_type": "markdown",
   "metadata": {},
   "source": [
    "<font color=blue size=3> Since X and Y both has a column for timestamp, therefore, the number of samples is 28962, the number of features is 1751, the number of types of targets is 2. </font>"
   ]
  },
  {
   "cell_type": "code",
   "execution_count": 75,
   "metadata": {},
   "outputs": [
    {
     "name": "stdout",
     "output_type": "stream",
     "text": [
      "The chosen features are:\n",
      "35_RxPacktes\n",
      "4_cpu17_.sys\n",
      "1_eth0_rxmcst.s\n",
      "0_cpu23_.iowait\n",
      "1_atmptf.s\n",
      "5_cpu22_.sys\n",
      "5_atmptf.s\n",
      "3_kbmemfree\n",
      "1_igmbq6.s\n",
      "2_temp4_degC\n"
     ]
    }
   ],
   "source": [
    "chosenFeatureID = random.sample(range(1752), 10) #choose 10 random featrues from 1751 features\n",
    "print(\"The chosen features are:\")\n",
    "#print(chosenFeatureID)\n",
    "chosenX = X.iloc[:, chosenFeatureID].copy() #the chosen features\n",
    "for col in chosenX.columns:\n",
    "    print(col)"
   ]
  },
  {
   "cell_type": "markdown",
   "metadata": {},
   "source": [
    "<font color=blue size=3> By looking up the manual page:</font> <br>\n",
    "<font color=blue size=3> 'iowait' means Percentage of time that the CPU or CPUs were idle during which the system had an outstanding disk I/O request.</font> <br>\n",
    "<font color=blue size=3> 'soft' means percentage of time spent by the CPU or CPUs to service software interrupts.</font> <br>\n",
    "<font color=blue size=3> 'tps' means the number of transfers per second that were issued to the device.</font> <br>\n",
    "<font color=blue size=3> 'usr' means Percentage of CPU utilization that occurred while executing at the user level (application). </font> <br>\n",
    "<font color=blue size=3> ... </font> <br>\n"
   ]
  },
  {
   "cell_type": "code",
   "execution_count": 76,
   "metadata": {},
   "outputs": [
    {
     "data": {
      "text/html": [
       "<div>\n",
       "<style scoped>\n",
       "    .dataframe tbody tr th:only-of-type {\n",
       "        vertical-align: middle;\n",
       "    }\n",
       "\n",
       "    .dataframe tbody tr th {\n",
       "        vertical-align: top;\n",
       "    }\n",
       "\n",
       "    .dataframe thead th {\n",
       "        text-align: right;\n",
       "    }\n",
       "</style>\n",
       "<table border=\"1\" class=\"dataframe\">\n",
       "  <thead>\n",
       "    <tr style=\"text-align: right;\">\n",
       "      <th></th>\n",
       "      <th>35_RxPacktes</th>\n",
       "      <th>4_cpu17_.sys</th>\n",
       "      <th>1_eth0_rxmcst.s</th>\n",
       "      <th>0_cpu23_.iowait</th>\n",
       "      <th>1_atmptf.s</th>\n",
       "      <th>5_cpu22_.sys</th>\n",
       "      <th>5_atmptf.s</th>\n",
       "      <th>3_kbmemfree</th>\n",
       "      <th>1_igmbq6.s</th>\n",
       "      <th>2_temp4_degC</th>\n",
       "    </tr>\n",
       "  </thead>\n",
       "  <tbody>\n",
       "    <tr>\n",
       "      <th>mean</th>\n",
       "      <td>1,462.52</td>\n",
       "      <td>0.44</td>\n",
       "      <td>0.02</td>\n",
       "      <td>0.00</td>\n",
       "      <td>0.04</td>\n",
       "      <td>0.70</td>\n",
       "      <td>0.01</td>\n",
       "      <td>1,298,772.90</td>\n",
       "      <td>0.01</td>\n",
       "      <td>21.43</td>\n",
       "    </tr>\n",
       "    <tr>\n",
       "      <th>std</th>\n",
       "      <td>477.64</td>\n",
       "      <td>1.18</td>\n",
       "      <td>0.15</td>\n",
       "      <td>0.17</td>\n",
       "      <td>1.53</td>\n",
       "      <td>1.12</td>\n",
       "      <td>1.60</td>\n",
       "      <td>670,189.95</td>\n",
       "      <td>0.09</td>\n",
       "      <td>0.49</td>\n",
       "    </tr>\n",
       "    <tr>\n",
       "      <th>max</th>\n",
       "      <td>4,791.00</td>\n",
       "      <td>21.78</td>\n",
       "      <td>1.00</td>\n",
       "      <td>23.23</td>\n",
       "      <td>134.00</td>\n",
       "      <td>31.68</td>\n",
       "      <td>266.00</td>\n",
       "      <td>3,251,292.00</td>\n",
       "      <td>1.00</td>\n",
       "      <td>23.12</td>\n",
       "    </tr>\n",
       "    <tr>\n",
       "      <th>min</th>\n",
       "      <td>0.00</td>\n",
       "      <td>0.00</td>\n",
       "      <td>0.00</td>\n",
       "      <td>0.00</td>\n",
       "      <td>0.00</td>\n",
       "      <td>0.00</td>\n",
       "      <td>0.00</td>\n",
       "      <td>240,796.00</td>\n",
       "      <td>0.00</td>\n",
       "      <td>19.50</td>\n",
       "    </tr>\n",
       "    <tr>\n",
       "      <th>25%</th>\n",
       "      <td>1,138.00</td>\n",
       "      <td>0.00</td>\n",
       "      <td>0.00</td>\n",
       "      <td>0.00</td>\n",
       "      <td>0.00</td>\n",
       "      <td>0.00</td>\n",
       "      <td>0.00</td>\n",
       "      <td>719,798.00</td>\n",
       "      <td>0.00</td>\n",
       "      <td>21.00</td>\n",
       "    </tr>\n",
       "    <tr>\n",
       "      <th>90%</th>\n",
       "      <td>2,015.00</td>\n",
       "      <td>1.01</td>\n",
       "      <td>0.00</td>\n",
       "      <td>0.00</td>\n",
       "      <td>0.00</td>\n",
       "      <td>2.00</td>\n",
       "      <td>0.00</td>\n",
       "      <td>2,141,656.00</td>\n",
       "      <td>0.00</td>\n",
       "      <td>22.00</td>\n",
       "    </tr>\n",
       "  </tbody>\n",
       "</table>\n",
       "</div>"
      ],
      "text/plain": [
       "      35_RxPacktes  4_cpu17_.sys  1_eth0_rxmcst.s  0_cpu23_.iowait  \\\n",
       "mean      1,462.52          0.44             0.02             0.00   \n",
       "std         477.64          1.18             0.15             0.17   \n",
       "max       4,791.00         21.78             1.00            23.23   \n",
       "min           0.00          0.00             0.00             0.00   \n",
       "25%       1,138.00          0.00             0.00             0.00   \n",
       "90%       2,015.00          1.01             0.00             0.00   \n",
       "\n",
       "      1_atmptf.s  5_cpu22_.sys  5_atmptf.s  3_kbmemfree  1_igmbq6.s  \\\n",
       "mean        0.04          0.70        0.01 1,298,772.90        0.01   \n",
       "std         1.53          1.12        1.60   670,189.95        0.09   \n",
       "max       134.00         31.68      266.00 3,251,292.00        1.00   \n",
       "min         0.00          0.00        0.00   240,796.00        0.00   \n",
       "25%         0.00          0.00        0.00   719,798.00        0.00   \n",
       "90%         0.00          2.00        0.00 2,141,656.00        0.00   \n",
       "\n",
       "      2_temp4_degC  \n",
       "mean         21.43  \n",
       "std           0.49  \n",
       "max          23.12  \n",
       "min          19.50  \n",
       "25%          21.00  \n",
       "90%          22.00  "
      ]
     },
     "execution_count": 76,
     "metadata": {},
     "output_type": "execute_result"
    }
   ],
   "source": [
    "pd.options.display.float_format = \"{:,.2f}\".format #set no more than two digits after the decimal point\n",
    "allStatistics = pd.DataFrame(chosenX.describe(percentiles = [0.25,0.90]))\n",
    "statistics  = allStatistics.iloc[[1,2,7,3,4,6], :].copy()\n",
    "statistics"
   ]
  },
  {
   "cell_type": "markdown",
   "metadata": {},
   "source": [
    "<font color=blue size=3> With help of describe(), the required statistics are shown above.</font> <br>"
   ]
  },
  {
   "cell_type": "markdown",
   "metadata": {},
   "source": [
    "### Question 2"
   ]
  },
  {
   "cell_type": "code",
   "execution_count": 77,
   "metadata": {},
   "outputs": [
    {
     "data": {
      "text/plain": [
       "array([[2.230000e+00, 5.500000e-01, 4.200000e-01, ..., 2.960000e+02,\n",
       "        1.216590e+05, 2.937120e+05],\n",
       "       [3.480000e+00, 7.600000e-01, 1.510000e+00, ..., 3.487000e+03,\n",
       "        1.603670e+06, 2.822663e+06],\n",
       "       [5.400000e+00, 7.900000e-01, 5.360000e+00, ..., 2.755000e+03,\n",
       "        1.272053e+06, 2.442247e+06],\n",
       "       ...,\n",
       "       [4.000000e-02, 8.000000e-02, 0.000000e+00, ..., 3.210000e+02,\n",
       "        1.565630e+05, 2.891050e+05],\n",
       "       [4.000000e-02, 8.000000e-02, 0.000000e+00, ..., 3.100000e+02,\n",
       "        1.479080e+05, 2.842120e+05],\n",
       "       [4.000000e-02, 4.000000e-02, 0.000000e+00, ..., 3.330000e+02,\n",
       "        1.724420e+05, 2.755180e+05]])"
      ]
     },
     "execution_count": 77,
     "metadata": {},
     "output_type": "execute_result"
    }
   ],
   "source": [
    "#statisticsNum = np.around(statisticsNum, decimals=2) #round to two digits after the decimal point\n",
    "numpyX = X.drop(['TimeStamp'], axis=1).copy() #remove timestamp\n",
    "numpyX = numpyX.to_numpy()\n",
    "#np.set_printoptions(precision=2) #set no more than two digits after the decimal point\n",
    "numpyX"
   ]
  },
  {
   "cell_type": "markdown",
   "metadata": {},
   "source": [
    "##### (a) L2 Normalization"
   ]
  },
  {
   "cell_type": "code",
   "execution_count": 78,
   "metadata": {},
   "outputs": [
    {
     "data": {
      "text/plain": [
       "array([[7.69676654e-09, 1.89830565e-09, 1.44961522e-09, ...,\n",
       "        1.02163359e-06, 4.19901758e-04, 1.01373663e-03],\n",
       "       [1.19873115e-08, 2.61791861e-09, 5.20139093e-09, ...,\n",
       "        1.20114240e-05, 5.52404940e-03, 9.72302896e-03],\n",
       "       [1.86083603e-08, 2.72233419e-09, 1.84705206e-08, ...,\n",
       "        9.49370974e-06, 4.38348528e-03, 8.41596520e-03],\n",
       "       ...,\n",
       "       [1.38095228e-10, 2.76190456e-10, 0.00000000e+00, ...,\n",
       "        1.10821421e-06, 5.40515080e-04, 9.98100523e-04],\n",
       "       [1.38095536e-10, 2.76191072e-10, 0.00000000e+00, ...,\n",
       "        1.07024041e-06, 5.10635864e-04, 9.81210213e-04],\n",
       "       [1.38094431e-10, 1.38094431e-10, 0.00000000e+00, ...,\n",
       "        1.14963614e-06, 5.95331995e-04, 9.51187534e-04]])"
      ]
     },
     "execution_count": 78,
     "metadata": {},
     "output_type": "execute_result"
    }
   ],
   "source": [
    "normedRowX= preprocessing.normalize(numpyX, norm='l2')\n",
    "normedRowX"
   ]
  },
  {
   "cell_type": "code",
   "execution_count": 79,
   "metadata": {},
   "outputs": [
    {
     "name": "stdout",
     "output_type": "stream",
     "text": [
      "L2 norm in row is correct.\n"
     ]
    }
   ],
   "source": [
    "#Verifycation of L2 norm\n",
    "normCorrect = 1\n",
    "for i in range(normedRowX.shape[0]):\n",
    "    sums = 0\n",
    "    for j in normedRowX[i]:\n",
    "        sums += j**2\n",
    "    sums = float(\"{:.4f}\".format(sums))     \n",
    "    if sums != 1:\n",
    "        normCorrect = 0\n",
    "if normCorrect:\n",
    "    print(\"L2 norm in row is correct.\")"
   ]
  },
  {
   "cell_type": "code",
   "execution_count": 80,
   "metadata": {},
   "outputs": [
    {
     "data": {
      "text/plain": [
       "array([[0.0210194 , 0.00907754, 0.00944102, ..., 0.00046718, 0.00039578,\n",
       "        0.00050488],\n",
       "       [0.03280157, 0.0125435 , 0.03394272, ..., 0.00550362, 0.00521708,\n",
       "        0.00485209],\n",
       "       [0.050899  , 0.01303864, 0.12048541, ..., 0.00434829, 0.00413826,\n",
       "        0.00419817],\n",
       "       ...,\n",
       "       [0.00037703, 0.00132037, 0.        , ..., 0.00050664, 0.00050933,\n",
       "        0.00049697],\n",
       "       [0.00037703, 0.00132037, 0.        , ..., 0.00048928, 0.00048118,\n",
       "        0.00048855],\n",
       "       [0.00037703, 0.00066018, 0.        , ..., 0.00052558, 0.00056099,\n",
       "        0.00047361]])"
      ]
     },
     "execution_count": 80,
     "metadata": {},
     "output_type": "execute_result"
    }
   ],
   "source": [
    "normedColumnX = preprocessing.normalize(numpyX.T, norm='l2')\n",
    "normedColumnX = normedColumnX.T\n",
    "normedColumnX"
   ]
  },
  {
   "cell_type": "code",
   "execution_count": 81,
   "metadata": {},
   "outputs": [
    {
     "name": "stdout",
     "output_type": "stream",
     "text": [
      "L2 norm in column is correct.\n"
     ]
    }
   ],
   "source": [
    "#Verifycation of L2 norm\n",
    "normCorrect = 1\n",
    "for j in range(normedColumnX.shape[1]):\n",
    "    sums = 0\n",
    "    for i in range(normedColumnX.shape[0]):\n",
    "        sums += normedColumnX[i][j]**2\n",
    "    sums = float(\"{:.4f}\".format(sums))   \n",
    "    if sums != 1:\n",
    "        normCorrect = 0\n",
    "if normCorrect:\n",
    "    print(\"L2 norm in column is correct.\")"
   ]
  },
  {
   "cell_type": "markdown",
   "metadata": {},
   "source": [
    "##### (b) Restriction to Interval"
   ]
  },
  {
   "cell_type": "code",
   "execution_count": 82,
   "metadata": {},
   "outputs": [],
   "source": [
    "def normalizeData(data):\n",
    "    return (data - np.min(data)) / (np.max(data) - np.min(data))"
   ]
  },
  {
   "cell_type": "code",
   "execution_count": 83,
   "metadata": {},
   "outputs": [
    {
     "data": {
      "text/plain": [
       "array([[5.84383254e-05, 5.84132563e-05, 5.84113164e-05, ...,\n",
       "        6.28219869e-05, 1.87381125e-03, 4.44120111e-03],\n",
       "       [6.58279802e-05, 6.57873925e-05, 6.57985839e-05, ...,\n",
       "        1.17808967e-04, 2.39956946e-02, 4.21854738e-02],\n",
       "       [9.93530577e-05, 9.92842697e-05, 9.93524608e-05, ...,\n",
       "        1.40381108e-04, 1.90801620e-02, 3.65411665e-02],\n",
       "       ...,\n",
       "       [4.48981704e-07, 4.49579549e-07, 4.48383859e-07, ...,\n",
       "        5.24609115e-06, 2.34045912e-03, 4.32144890e-03],\n",
       "       [9.57149591e-07, 9.57747435e-07, 9.56551746e-07, ...,\n",
       "        5.58984926e-06, 2.21160742e-03, 4.24882350e-03],\n",
       "       [8.37580672e-07, 8.37580672e-07, 8.36982828e-07, ...,\n",
       "        5.81404143e-06, 2.57817614e-03, 4.11876260e-03]])"
      ]
     },
     "execution_count": 83,
     "metadata": {},
     "output_type": "execute_result"
    }
   ],
   "source": [
    "resRowX = np.zeros(numpyX.shape)\n",
    "for i in range(numpyX.shape[0]):\n",
    "    resRowX[i] = normalizeData(numpyX[i])\n",
    "resRowX"
   ]
  },
  {
   "cell_type": "code",
   "execution_count": 84,
   "metadata": {},
   "outputs": [
    {
     "name": "stdout",
     "output_type": "stream",
     "text": [
      "[0,1] scaling in row is correct.\n"
     ]
    }
   ],
   "source": [
    "#Verifycation of [0,1] scaling\n",
    "resCorrect = 1\n",
    "for i in range(resRowX.shape[0]):\n",
    "    for j in resRowX[i]:   \n",
    "        if j<0 or j>1:\n",
    "            resCorrect = 0\n",
    "if resCorrect:\n",
    "    print(\"[0,1] scaling in row is correct.\")"
   ]
  },
  {
   "cell_type": "code",
   "execution_count": 85,
   "metadata": {},
   "outputs": [
    {
     "data": {
      "text/plain": [
       "array([[0.11506708, 0.18272425, 0.0320122 , ..., 0.00775097, 0.01653088,\n",
       "        0.00782261],\n",
       "       [0.17956656, 0.25249169, 0.11509146, ..., 0.40667583, 0.39170616,\n",
       "        0.35135498],\n",
       "       [0.27863777, 0.26245847, 0.40853659, ..., 0.3151644 , 0.30775637,\n",
       "        0.29967932],\n",
       "       ...,\n",
       "       [0.00206398, 0.02657807, 0.        , ..., 0.01087636, 0.02536693,\n",
       "        0.0071968 ],\n",
       "       [0.00206398, 0.02657807, 0.        , ..., 0.00950119, 0.02317589,\n",
       "        0.00653213],\n",
       "       [0.00206398, 0.01328904, 0.        , ..., 0.01237655, 0.02938674,\n",
       "        0.00535114]])"
      ]
     },
     "execution_count": 85,
     "metadata": {},
     "output_type": "execute_result"
    }
   ],
   "source": [
    "resColumnX = np.zeros(numpyX.T.shape)\n",
    "for i in range(numpyX.T.shape[0]):\n",
    "    resColumnX[i] = normalizeData(numpyX.T[i])\n",
    "resColumnX = resColumnX.T\n",
    "resColumnX"
   ]
  },
  {
   "cell_type": "code",
   "execution_count": 86,
   "metadata": {},
   "outputs": [
    {
     "name": "stdout",
     "output_type": "stream",
     "text": [
      "[0,1] scaling in column is correct.\n"
     ]
    }
   ],
   "source": [
    "#Verifycation of [0,1] scaling\n",
    "resCorrect = 1\n",
    "for i in range(resRowX.shape[0]):\n",
    "    for j in resRowX[i]:   \n",
    "        if j<0 or j>1:\n",
    "            resCorrect = 0\n",
    "if resCorrect:\n",
    "    print(\"[0,1] scaling in column is correct.\")"
   ]
  },
  {
   "cell_type": "markdown",
   "metadata": {},
   "source": [
    "##### (c) Standardization"
   ]
  },
  {
   "cell_type": "code",
   "execution_count": 87,
   "metadata": {},
   "outputs": [
    {
     "data": {
      "text/plain": [
       "array([[-0.14757565, -0.14757589, -0.14757591, ..., -0.14753276,\n",
       "        -0.1298149 , -0.10469678],\n",
       "       [-0.15495775, -0.15495815, -0.15495804, ..., -0.15444964,\n",
       "         0.07895409,  0.25675721],\n",
       "       [-0.1533002 , -0.15330087, -0.15330021, ..., -0.15289908,\n",
       "         0.0322686 ,  0.2029788 ],\n",
       "       ...,\n",
       "       [-0.14485998, -0.14485997, -0.14485998, ..., -0.14481312,\n",
       "        -0.12200608, -0.10265858],\n",
       "       [-0.144821  , -0.144821  , -0.14482101, ..., -0.14477576,\n",
       "        -0.12323057, -0.10333399],\n",
       "       [-0.14486899, -0.14486899, -0.144869  , ..., -0.14482039,\n",
       "        -0.1196973 , -0.1046511 ]])"
      ]
     },
     "execution_count": 87,
     "metadata": {},
     "output_type": "execute_result"
    }
   ],
   "source": [
    "stdRowX = np.zeros(numpyX.shape)\n",
    "for i in range(numpyX.shape[0]):\n",
    "    stdRowX[i] = preprocessing.scale(numpyX[i])\n",
    "stdRowX"
   ]
  },
  {
   "cell_type": "code",
   "execution_count": 88,
   "metadata": {},
   "outputs": [
    {
     "name": "stdout",
     "output_type": "stream",
     "text": [
      "L2 standardizatio in row is correct.\n"
     ]
    }
   ],
   "source": [
    "#Verifycation of standardizatio\n",
    "stdCorrect = 1\n",
    "for i in stdRowX:\n",
    "    mean = float(\"{:.4f}\".format(i.mean()))\n",
    "    std = float(\"{:.4f}\".format(i.std()))\n",
    "    if mean != 0 or std != 1:\n",
    "        stdCorrect = 0\n",
    "if stdCorrect:\n",
    "    print(\"L2 standardizatio in row is correct.\")"
   ]
  },
  {
   "cell_type": "code",
   "execution_count": 89,
   "metadata": {
    "scrolled": true
   },
   "outputs": [
    {
     "data": {
      "text/plain": [
       "array([[ 3.68670472,  1.83315127,  1.33082725, ..., -1.56242283,\n",
       "        -1.55914158, -1.4338984 ],\n",
       "       [ 6.15623665,  3.63558832,  5.82039329, ...,  0.14334655,\n",
       "         0.05312454, -0.04070709],\n",
       "       [ 9.9494377 ,  3.89307932, 21.6780348 , ..., -0.24794872,\n",
       "        -0.30763854, -0.25027709],\n",
       "       ...,\n",
       "       [-0.63991522, -2.20087449, -0.39909728, ..., -1.54905893,\n",
       "        -1.52116984, -1.43643639],\n",
       "       [-0.63991522, -2.20087449, -0.39909728, ..., -1.55493905,\n",
       "        -1.53058553, -1.43913192],\n",
       "       [-0.63991522, -2.54419583, -0.39909728, ..., -1.54264425,\n",
       "        -1.50389522, -1.44392142]])"
      ]
     },
     "execution_count": 89,
     "metadata": {},
     "output_type": "execute_result"
    }
   ],
   "source": [
    "stdColumnX = np.zeros(numpyX.T.shape)\n",
    "for i in range(numpyX.T.shape[0]):\n",
    "    stdColumnX[i] = preprocessing.scale(numpyX.T[i])\n",
    "stdColumnX = stdColumnX.T\n",
    "stdColumnX"
   ]
  },
  {
   "cell_type": "code",
   "execution_count": 90,
   "metadata": {},
   "outputs": [
    {
     "name": "stdout",
     "output_type": "stream",
     "text": [
      "L2 standardizatio in column is correct.\n"
     ]
    }
   ],
   "source": [
    "#Verifycation of standardizatio\n",
    "stdCorrect = 1\n",
    "for i in stdColumnX.T:\n",
    "    mean = float(\"{:.4f}\".format(i.mean()))\n",
    "    std = float(\"{:.4f}\".format(i.std()))\n",
    "    if mean != 0 or std != 1:\n",
    "        stdCorrect = 0\n",
    "if stdCorrect:\n",
    "    print(\"L2 standardizatio in column is correct.\")"
   ]
  },
  {
   "cell_type": "markdown",
   "metadata": {},
   "source": [
    "# Task 2\n",
    "### Question 2.1"
   ]
  },
  {
   "cell_type": "code",
   "execution_count": 149,
   "metadata": {},
   "outputs": [
    {
     "name": "stderr",
     "output_type": "stream",
     "text": [
      "/home/wenqi/anaconda3/lib/python3.7/site-packages/sklearn/model_selection/_split.py:2179: FutureWarning: From version 0.21, test_size will always complement train_size unless both are specified.\n",
      "  FutureWarning)\n"
     ]
    }
   ],
   "source": [
    "# prepare train data\n",
    "numpyY = Y.drop(['TimeStamp'], axis=1).copy().to_numpy() #remove timestamp\n",
    "trainX, testX, trainY, testY = train_test_split(numpyX, numpyY, train_size = 0.7, shuffle = True) #split the train and test data"
   ]
  },
  {
   "cell_type": "code",
   "execution_count": 175,
   "metadata": {},
   "outputs": [],
   "source": [
    "def calError(real, pred):\n",
    "    errors = np.zeros([1,2])\n",
    "    m = pred.T.shape[1]\n",
    "    for i in range(pred.T.shape[0]):\n",
    "        average = real.T[i].mean()\n",
    "        sums = 0\n",
    "        for j in range(m):\n",
    "            sums += abs(real.T[i][j] - pred.T[i][j])\n",
    "        errors[0][i] = sums / m / average\n",
    "    return errors"
   ]
  },
  {
   "cell_type": "markdown",
   "metadata": {},
   "source": [
    "##### Linear regression"
   ]
  },
  {
   "cell_type": "code",
   "execution_count": 151,
   "metadata": {},
   "outputs": [],
   "source": [
    "regLinear = LinearRegression()\n",
    "regLinear.fit(trainX, trainY) #train model\n",
    "predLinearY = regLinear.predict(testX) #predict Y"
   ]
  },
  {
   "cell_type": "markdown",
   "metadata": {},
   "source": [
    "<font color=blue size=3> Linear regression's accuracy is:</font> <br>"
   ]
  },
  {
   "cell_type": "code",
   "execution_count": 176,
   "metadata": {},
   "outputs": [
    {
     "data": {
      "text/plain": [
       "array([[2356849.12770209, 2687354.00372565]])"
      ]
     },
     "execution_count": 176,
     "metadata": {},
     "output_type": "execute_result"
    }
   ],
   "source": [
    "calError(testY, predLinearY)"
   ]
  },
  {
   "cell_type": "markdown",
   "metadata": {},
   "source": [
    "##### Random forest regression"
   ]
  },
  {
   "cell_type": "code",
   "execution_count": 180,
   "metadata": {},
   "outputs": [
    {
     "name": "stderr",
     "output_type": "stream",
     "text": [
      "/home/wenqi/anaconda3/lib/python3.7/site-packages/sklearn/ensemble/forest.py:246: FutureWarning: The default value of n_estimators will change from 10 in version 0.20 to 100 in 0.22.\n",
      "  \"10 in version 0.20 to 100 in 0.22.\", FutureWarning)\n"
     ]
    }
   ],
   "source": [
    "regRF = RandomForestRegressor()\n",
    "regRF.fit(trainX, trainY) #train model\n",
    "predRFY = regRF.predict(testX) #predict Y"
   ]
  },
  {
   "cell_type": "markdown",
   "metadata": {},
   "source": [
    "<font color=blue size=3> Random forest regression's accuracy is:</font> <br>"
   ]
  },
  {
   "cell_type": "code",
   "execution_count": 181,
   "metadata": {},
   "outputs": [
    {
     "data": {
      "text/plain": [
       "array([[0.02192736, 0.02354291]])"
      ]
     },
     "execution_count": 181,
     "metadata": {},
     "output_type": "execute_result"
    }
   ],
   "source": [
    "calError(testY, predRFY)"
   ]
  },
  {
   "cell_type": "markdown",
   "metadata": {},
   "source": [
    "#####  Neural network regression"
   ]
  },
  {
   "cell_type": "code",
   "execution_count": 206,
   "metadata": {},
   "outputs": [],
   "source": [
    "regNN = MLPRegressor(hidden_layer_sizes = [128, 64, 32], random_state=1, max_iter=500, activation = 'logistic', solver = 'adam', early_stopping = True)\n",
    "regNN.fit(trainX, trainY)\n",
    "predNNY = regNN.predict(testX) #predict Y"
   ]
  },
  {
   "cell_type": "markdown",
   "metadata": {},
   "source": [
    "<font color=blue size=3> Neural network's accuracy is:</font> <br>"
   ]
  },
  {
   "cell_type": "code",
   "execution_count": 207,
   "metadata": {},
   "outputs": [
    {
     "data": {
      "text/plain": [
       "array([[0.04329211, 0.04552282]])"
      ]
     },
     "execution_count": 207,
     "metadata": {},
     "output_type": "execute_result"
    }
   ],
   "source": [
    "calError(testY, predNNY)"
   ]
  },
  {
   "cell_type": "markdown",
   "metadata": {},
   "source": [
    "##### Naive method "
   ]
  },
  {
   "cell_type": "code",
   "execution_count": 220,
   "metadata": {},
   "outputs": [
    {
     "data": {
      "text/plain": [
       "array([[ 56.01466907, 112.039958  ],\n",
       "       [ 56.01466907, 112.039958  ],\n",
       "       [ 56.01466907, 112.039958  ],\n",
       "       ...,\n",
       "       [ 56.01466907, 112.039958  ],\n",
       "       [ 56.01466907, 112.039958  ],\n",
       "       [ 56.01466907, 112.039958  ]])"
      ]
     },
     "execution_count": 220,
     "metadata": {},
     "output_type": "execute_result"
    }
   ],
   "source": [
    "predNaiveY = np.zeros(testY.shape)\n",
    "predNaiveY.T[0].fill(trainY.T[0].mean())\n",
    "predNaiveY.T[1].fill(trainY.T[1].mean())\n",
    "predNaiveY"
   ]
  },
  {
   "cell_type": "markdown",
   "metadata": {},
   "source": [
    "<font color=blue size=3> Naive method 's accuracy is:</font> <br>"
   ]
  },
  {
   "cell_type": "code",
   "execution_count": 222,
   "metadata": {},
   "outputs": [
    {
     "data": {
      "text/plain": [
       "array([[0.04329714, 0.04554263]])"
      ]
     },
     "execution_count": 222,
     "metadata": {},
     "output_type": "execute_result"
    }
   ],
   "source": [
    "calError(testY, predNaiveY)"
   ]
  },
  {
   "cell_type": "code",
   "execution_count": null,
   "metadata": {},
   "outputs": [],
   "source": []
  }
 ],
 "metadata": {
  "kernelspec": {
   "display_name": "Python 3",
   "language": "python",
   "name": "python3"
  },
  "language_info": {
   "codemirror_mode": {
    "name": "ipython",
    "version": 3
   },
   "file_extension": ".py",
   "mimetype": "text/x-python",
   "name": "python",
   "nbconvert_exporter": "python",
   "pygments_lexer": "ipython3",
   "version": "3.7.3"
  }
 },
 "nbformat": 4,
 "nbformat_minor": 2
}
