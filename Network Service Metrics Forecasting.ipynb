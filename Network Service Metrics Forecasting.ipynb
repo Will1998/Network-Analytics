{
 "cells": [
  {
   "cell_type": "code",
   "execution_count": 45,
   "metadata": {},
   "outputs": [],
   "source": [
    "import numpy as np\n",
    "import pandas as pd\n",
    "import random\n",
    "import os\n",
    "from sklearn import preprocessing\n",
    "from sklearn import linear_model\n",
    "from sklearn.metrics import mean_absolute_error\n",
    "from sklearn.linear_model import LinearRegression\n",
    "from sklearn.ensemble import RandomForestRegressor\n",
    "from sklearn.model_selection import train_test_split\n",
    "from sklearn.feature_selection import SelectFromModel\n",
    "import matplotlib.pyplot as plt\n",
    "from matplotlib.pyplot import figure\n",
    "import seaborn as sns\n",
    "from scipy.stats import gaussian_kde\n",
    "import warnings\n",
    "import keras\n",
    "from keras.models import Sequential\n",
    "from keras import layers\n",
    "from keras import activations"
   ]
  },
  {
   "cell_type": "code",
   "execution_count": 2,
   "metadata": {},
   "outputs": [
    {
     "name": "stdout",
     "output_type": "stream",
     "text": [
      "The shape of X.csv is:\n",
      "(37036, 1714)\n",
      "The shape of Y.csv is:\n",
      "(37036, 10)\n"
     ]
    }
   ],
   "source": [
    "X = pd.read_csv('../Project1/VoD_periodic/X.csv')\n",
    "Y = pd.read_csv('../Project1/VoD_periodic/Y.csv')\n",
    "print(\"The shape of X.csv is:\")\n",
    "print(X.shape)\n",
    "print(\"The shape of Y.csv is:\")\n",
    "print(Y.shape)"
   ]
  },
  {
   "cell_type": "code",
   "execution_count": 3,
   "metadata": {},
   "outputs": [
    {
     "data": {
      "text/html": [
       "<div>\n",
       "<style scoped>\n",
       "    .dataframe tbody tr th:only-of-type {\n",
       "        vertical-align: middle;\n",
       "    }\n",
       "\n",
       "    .dataframe tbody tr th {\n",
       "        vertical-align: top;\n",
       "    }\n",
       "\n",
       "    .dataframe thead th {\n",
       "        text-align: right;\n",
       "    }\n",
       "</style>\n",
       "<table border=\"1\" class=\"dataframe\">\n",
       "  <thead>\n",
       "    <tr style=\"text-align: right;\">\n",
       "      <th></th>\n",
       "      <th>TimeStamp</th>\n",
       "      <th>0_all_..usr</th>\n",
       "      <th>0_all_..sys</th>\n",
       "      <th>0_all_..iowait</th>\n",
       "      <th>0_all_..soft</th>\n",
       "      <th>0_all_..idle</th>\n",
       "      <th>0_cpu0_.usr</th>\n",
       "      <th>0_cpu0_.sys</th>\n",
       "      <th>0_cpu0_.iowait</th>\n",
       "      <th>0_cpu0_.soft</th>\n",
       "      <th>...</th>\n",
       "      <th>36_RxBytes.1</th>\n",
       "      <th>36_TxBytes.1</th>\n",
       "      <th>40_RxPacktes.1</th>\n",
       "      <th>40_TxPacktes.1</th>\n",
       "      <th>40_RxBytes.1</th>\n",
       "      <th>40_TxBytes.1</th>\n",
       "      <th>41_RxPacktes.1</th>\n",
       "      <th>41_TxPacktes.1</th>\n",
       "      <th>41_RxBytes.1</th>\n",
       "      <th>41_TxBytes.1</th>\n",
       "    </tr>\n",
       "  </thead>\n",
       "  <tbody>\n",
       "    <tr>\n",
       "      <td>0</td>\n",
       "      <td>2016-11-17 19:08:42</td>\n",
       "      <td>0.04</td>\n",
       "      <td>0.13</td>\n",
       "      <td>0.13</td>\n",
       "      <td>0.00</td>\n",
       "      <td>99.71</td>\n",
       "      <td>1.0</td>\n",
       "      <td>0.00</td>\n",
       "      <td>1.00</td>\n",
       "      <td>0.0</td>\n",
       "      <td>...</td>\n",
       "      <td>104466</td>\n",
       "      <td>924</td>\n",
       "      <td>59</td>\n",
       "      <td>13</td>\n",
       "      <td>89326</td>\n",
       "      <td>858</td>\n",
       "      <td>13</td>\n",
       "      <td>59</td>\n",
       "      <td>858</td>\n",
       "      <td>155934</td>\n",
       "    </tr>\n",
       "    <tr>\n",
       "      <td>1</td>\n",
       "      <td>2016-11-17 19:08:43</td>\n",
       "      <td>0.08</td>\n",
       "      <td>0.17</td>\n",
       "      <td>0.00</td>\n",
       "      <td>0.00</td>\n",
       "      <td>99.75</td>\n",
       "      <td>0.0</td>\n",
       "      <td>0.00</td>\n",
       "      <td>0.00</td>\n",
       "      <td>0.0</td>\n",
       "      <td>...</td>\n",
       "      <td>47828</td>\n",
       "      <td>2256</td>\n",
       "      <td>29</td>\n",
       "      <td>9</td>\n",
       "      <td>43906</td>\n",
       "      <td>594</td>\n",
       "      <td>10</td>\n",
       "      <td>29</td>\n",
       "      <td>654</td>\n",
       "      <td>74314</td>\n",
       "    </tr>\n",
       "    <tr>\n",
       "      <td>2</td>\n",
       "      <td>2016-11-17 19:08:44</td>\n",
       "      <td>0.08</td>\n",
       "      <td>0.21</td>\n",
       "      <td>0.04</td>\n",
       "      <td>0.00</td>\n",
       "      <td>99.67</td>\n",
       "      <td>0.0</td>\n",
       "      <td>0.00</td>\n",
       "      <td>1.01</td>\n",
       "      <td>0.0</td>\n",
       "      <td>...</td>\n",
       "      <td>42392</td>\n",
       "      <td>660</td>\n",
       "      <td>28</td>\n",
       "      <td>11</td>\n",
       "      <td>42392</td>\n",
       "      <td>726</td>\n",
       "      <td>11</td>\n",
       "      <td>28</td>\n",
       "      <td>726</td>\n",
       "      <td>71352</td>\n",
       "    </tr>\n",
       "    <tr>\n",
       "      <td>3</td>\n",
       "      <td>2016-11-17 19:08:45</td>\n",
       "      <td>0.13</td>\n",
       "      <td>0.17</td>\n",
       "      <td>0.08</td>\n",
       "      <td>0.00</td>\n",
       "      <td>99.62</td>\n",
       "      <td>0.0</td>\n",
       "      <td>0.00</td>\n",
       "      <td>0.00</td>\n",
       "      <td>0.0</td>\n",
       "      <td>...</td>\n",
       "      <td>38248</td>\n",
       "      <td>973</td>\n",
       "      <td>68</td>\n",
       "      <td>28</td>\n",
       "      <td>94686</td>\n",
       "      <td>2029</td>\n",
       "      <td>30</td>\n",
       "      <td>68</td>\n",
       "      <td>2393</td>\n",
       "      <td>146814</td>\n",
       "    </tr>\n",
       "    <tr>\n",
       "      <td>4</td>\n",
       "      <td>2016-11-17 19:08:46</td>\n",
       "      <td>0.08</td>\n",
       "      <td>0.25</td>\n",
       "      <td>0.08</td>\n",
       "      <td>0.00</td>\n",
       "      <td>99.58</td>\n",
       "      <td>1.0</td>\n",
       "      <td>0.00</td>\n",
       "      <td>1.00</td>\n",
       "      <td>0.0</td>\n",
       "      <td>...</td>\n",
       "      <td>963602</td>\n",
       "      <td>5868</td>\n",
       "      <td>630</td>\n",
       "      <td>75</td>\n",
       "      <td>945081</td>\n",
       "      <td>5369</td>\n",
       "      <td>74</td>\n",
       "      <td>631</td>\n",
       "      <td>5308</td>\n",
       "      <td>1705350</td>\n",
       "    </tr>\n",
       "    <tr>\n",
       "      <td>...</td>\n",
       "      <td>...</td>\n",
       "      <td>...</td>\n",
       "      <td>...</td>\n",
       "      <td>...</td>\n",
       "      <td>...</td>\n",
       "      <td>...</td>\n",
       "      <td>...</td>\n",
       "      <td>...</td>\n",
       "      <td>...</td>\n",
       "      <td>...</td>\n",
       "      <td>...</td>\n",
       "      <td>...</td>\n",
       "      <td>...</td>\n",
       "      <td>...</td>\n",
       "      <td>...</td>\n",
       "      <td>...</td>\n",
       "      <td>...</td>\n",
       "      <td>...</td>\n",
       "      <td>...</td>\n",
       "      <td>...</td>\n",
       "      <td>...</td>\n",
       "    </tr>\n",
       "    <tr>\n",
       "      <td>37031</td>\n",
       "      <td>2016-11-18 07:09:46</td>\n",
       "      <td>0.08</td>\n",
       "      <td>0.21</td>\n",
       "      <td>0.00</td>\n",
       "      <td>0.04</td>\n",
       "      <td>99.67</td>\n",
       "      <td>0.0</td>\n",
       "      <td>0.00</td>\n",
       "      <td>1.00</td>\n",
       "      <td>0.0</td>\n",
       "      <td>...</td>\n",
       "      <td>673922</td>\n",
       "      <td>3756</td>\n",
       "      <td>69</td>\n",
       "      <td>20</td>\n",
       "      <td>103018</td>\n",
       "      <td>1452</td>\n",
       "      <td>20</td>\n",
       "      <td>69</td>\n",
       "      <td>1452</td>\n",
       "      <td>176866</td>\n",
       "    </tr>\n",
       "    <tr>\n",
       "      <td>37032</td>\n",
       "      <td>2016-11-18 07:09:47</td>\n",
       "      <td>0.17</td>\n",
       "      <td>0.21</td>\n",
       "      <td>0.00</td>\n",
       "      <td>0.00</td>\n",
       "      <td>99.63</td>\n",
       "      <td>0.0</td>\n",
       "      <td>0.00</td>\n",
       "      <td>0.00</td>\n",
       "      <td>0.0</td>\n",
       "      <td>...</td>\n",
       "      <td>566376</td>\n",
       "      <td>9678</td>\n",
       "      <td>63</td>\n",
       "      <td>13</td>\n",
       "      <td>93934</td>\n",
       "      <td>990</td>\n",
       "      <td>14</td>\n",
       "      <td>63</td>\n",
       "      <td>1050</td>\n",
       "      <td>167782</td>\n",
       "    </tr>\n",
       "    <tr>\n",
       "      <td>37033</td>\n",
       "      <td>2016-11-18 07:09:48</td>\n",
       "      <td>0.08</td>\n",
       "      <td>0.25</td>\n",
       "      <td>0.04</td>\n",
       "      <td>0.00</td>\n",
       "      <td>99.62</td>\n",
       "      <td>0.0</td>\n",
       "      <td>0.00</td>\n",
       "      <td>1.00</td>\n",
       "      <td>0.0</td>\n",
       "      <td>...</td>\n",
       "      <td>394270</td>\n",
       "      <td>10348</td>\n",
       "      <td>116</td>\n",
       "      <td>74</td>\n",
       "      <td>114740</td>\n",
       "      <td>8664</td>\n",
       "      <td>76</td>\n",
       "      <td>115</td>\n",
       "      <td>8900</td>\n",
       "      <td>187074</td>\n",
       "    </tr>\n",
       "    <tr>\n",
       "      <td>37034</td>\n",
       "      <td>2016-11-18 07:09:49</td>\n",
       "      <td>0.12</td>\n",
       "      <td>0.17</td>\n",
       "      <td>0.00</td>\n",
       "      <td>0.00</td>\n",
       "      <td>99.71</td>\n",
       "      <td>0.0</td>\n",
       "      <td>0.99</td>\n",
       "      <td>0.00</td>\n",
       "      <td>0.0</td>\n",
       "      <td>...</td>\n",
       "      <td>139420</td>\n",
       "      <td>1360</td>\n",
       "      <td>39</td>\n",
       "      <td>34</td>\n",
       "      <td>3930</td>\n",
       "      <td>7276</td>\n",
       "      <td>33</td>\n",
       "      <td>40</td>\n",
       "      <td>7100</td>\n",
       "      <td>3996</td>\n",
       "    </tr>\n",
       "    <tr>\n",
       "      <td>37035</td>\n",
       "      <td>2016-11-18 07:09:50</td>\n",
       "      <td>0.13</td>\n",
       "      <td>0.21</td>\n",
       "      <td>0.04</td>\n",
       "      <td>0.00</td>\n",
       "      <td>99.62</td>\n",
       "      <td>0.0</td>\n",
       "      <td>0.00</td>\n",
       "      <td>0.00</td>\n",
       "      <td>0.0</td>\n",
       "      <td>...</td>\n",
       "      <td>180</td>\n",
       "      <td>120</td>\n",
       "      <td>0</td>\n",
       "      <td>0</td>\n",
       "      <td>0</td>\n",
       "      <td>0</td>\n",
       "      <td>0</td>\n",
       "      <td>0</td>\n",
       "      <td>0</td>\n",
       "      <td>0</td>\n",
       "    </tr>\n",
       "  </tbody>\n",
       "</table>\n",
       "<p>37036 rows × 1714 columns</p>\n",
       "</div>"
      ],
      "text/plain": [
       "                 TimeStamp  0_all_..usr  0_all_..sys  0_all_..iowait  \\\n",
       "0      2016-11-17 19:08:42         0.04         0.13            0.13   \n",
       "1      2016-11-17 19:08:43         0.08         0.17            0.00   \n",
       "2      2016-11-17 19:08:44         0.08         0.21            0.04   \n",
       "3      2016-11-17 19:08:45         0.13         0.17            0.08   \n",
       "4      2016-11-17 19:08:46         0.08         0.25            0.08   \n",
       "...                    ...          ...          ...             ...   \n",
       "37031  2016-11-18 07:09:46         0.08         0.21            0.00   \n",
       "37032  2016-11-18 07:09:47         0.17         0.21            0.00   \n",
       "37033  2016-11-18 07:09:48         0.08         0.25            0.04   \n",
       "37034  2016-11-18 07:09:49         0.12         0.17            0.00   \n",
       "37035  2016-11-18 07:09:50         0.13         0.21            0.04   \n",
       "\n",
       "       0_all_..soft  0_all_..idle  0_cpu0_.usr  0_cpu0_.sys  0_cpu0_.iowait  \\\n",
       "0              0.00         99.71          1.0         0.00            1.00   \n",
       "1              0.00         99.75          0.0         0.00            0.00   \n",
       "2              0.00         99.67          0.0         0.00            1.01   \n",
       "3              0.00         99.62          0.0         0.00            0.00   \n",
       "4              0.00         99.58          1.0         0.00            1.00   \n",
       "...             ...           ...          ...          ...             ...   \n",
       "37031          0.04         99.67          0.0         0.00            1.00   \n",
       "37032          0.00         99.63          0.0         0.00            0.00   \n",
       "37033          0.00         99.62          0.0         0.00            1.00   \n",
       "37034          0.00         99.71          0.0         0.99            0.00   \n",
       "37035          0.00         99.62          0.0         0.00            0.00   \n",
       "\n",
       "       0_cpu0_.soft  ...  36_RxBytes.1  36_TxBytes.1  40_RxPacktes.1  \\\n",
       "0               0.0  ...        104466           924              59   \n",
       "1               0.0  ...         47828          2256              29   \n",
       "2               0.0  ...         42392           660              28   \n",
       "3               0.0  ...         38248           973              68   \n",
       "4               0.0  ...        963602          5868             630   \n",
       "...             ...  ...           ...           ...             ...   \n",
       "37031           0.0  ...        673922          3756              69   \n",
       "37032           0.0  ...        566376          9678              63   \n",
       "37033           0.0  ...        394270         10348             116   \n",
       "37034           0.0  ...        139420          1360              39   \n",
       "37035           0.0  ...           180           120               0   \n",
       "\n",
       "       40_TxPacktes.1  40_RxBytes.1  40_TxBytes.1  41_RxPacktes.1  \\\n",
       "0                  13         89326           858              13   \n",
       "1                   9         43906           594              10   \n",
       "2                  11         42392           726              11   \n",
       "3                  28         94686          2029              30   \n",
       "4                  75        945081          5369              74   \n",
       "...               ...           ...           ...             ...   \n",
       "37031              20        103018          1452              20   \n",
       "37032              13         93934           990              14   \n",
       "37033              74        114740          8664              76   \n",
       "37034              34          3930          7276              33   \n",
       "37035               0             0             0               0   \n",
       "\n",
       "       41_TxPacktes.1  41_RxBytes.1  41_TxBytes.1  \n",
       "0                  59           858        155934  \n",
       "1                  29           654         74314  \n",
       "2                  28           726         71352  \n",
       "3                  68          2393        146814  \n",
       "4                 631          5308       1705350  \n",
       "...               ...           ...           ...  \n",
       "37031              69          1452        176866  \n",
       "37032              63          1050        167782  \n",
       "37033             115          8900        187074  \n",
       "37034              40          7100          3996  \n",
       "37035               0             0             0  \n",
       "\n",
       "[37036 rows x 1714 columns]"
      ]
     },
     "execution_count": 3,
     "metadata": {},
     "output_type": "execute_result"
    }
   ],
   "source": [
    "X"
   ]
  },
  {
   "cell_type": "code",
   "execution_count": 4,
   "metadata": {},
   "outputs": [
    {
     "data": {
      "text/html": [
       "<div>\n",
       "<style scoped>\n",
       "    .dataframe tbody tr th:only-of-type {\n",
       "        vertical-align: middle;\n",
       "    }\n",
       "\n",
       "    .dataframe tbody tr th {\n",
       "        vertical-align: top;\n",
       "    }\n",
       "\n",
       "    .dataframe thead th {\n",
       "        text-align: right;\n",
       "    }\n",
       "</style>\n",
       "<table border=\"1\" class=\"dataframe\">\n",
       "  <thead>\n",
       "    <tr style=\"text-align: right;\">\n",
       "      <th></th>\n",
       "      <th>TimeStamp</th>\n",
       "      <th>noAudioPlayed</th>\n",
       "      <th>avgInterAudioPlayedDelay</th>\n",
       "      <th>NetReadOperations</th>\n",
       "      <th>NetReadBytes</th>\n",
       "      <th>NetReadAvgDelay</th>\n",
       "      <th>noAudioLost</th>\n",
       "      <th>noAudioLate</th>\n",
       "      <th>DispFrames</th>\n",
       "      <th>AvgInterDispDelay</th>\n",
       "    </tr>\n",
       "  </thead>\n",
       "  <tbody>\n",
       "    <tr>\n",
       "      <td>0</td>\n",
       "      <td>2016-11-17 19:08:42</td>\n",
       "      <td>84</td>\n",
       "      <td>0.014553</td>\n",
       "      <td>2695</td>\n",
       "      <td>1880476</td>\n",
       "      <td>0.000606</td>\n",
       "      <td>0</td>\n",
       "      <td>0</td>\n",
       "      <td>23</td>\n",
       "      <td>0.070138</td>\n",
       "    </tr>\n",
       "    <tr>\n",
       "      <td>1</td>\n",
       "      <td>2016-11-17 19:08:43</td>\n",
       "      <td>42</td>\n",
       "      <td>0.024508</td>\n",
       "      <td>711</td>\n",
       "      <td>510624</td>\n",
       "      <td>0.001364</td>\n",
       "      <td>0</td>\n",
       "      <td>0</td>\n",
       "      <td>24</td>\n",
       "      <td>0.041706</td>\n",
       "    </tr>\n",
       "    <tr>\n",
       "      <td>2</td>\n",
       "      <td>2016-11-17 19:08:44</td>\n",
       "      <td>42</td>\n",
       "      <td>0.024569</td>\n",
       "      <td>281</td>\n",
       "      <td>162152</td>\n",
       "      <td>0.003416</td>\n",
       "      <td>0</td>\n",
       "      <td>0</td>\n",
       "      <td>24</td>\n",
       "      <td>0.041708</td>\n",
       "    </tr>\n",
       "    <tr>\n",
       "      <td>3</td>\n",
       "      <td>2016-11-17 19:08:45</td>\n",
       "      <td>48</td>\n",
       "      <td>0.021000</td>\n",
       "      <td>118</td>\n",
       "      <td>81056</td>\n",
       "      <td>0.007932</td>\n",
       "      <td>0</td>\n",
       "      <td>0</td>\n",
       "      <td>24</td>\n",
       "      <td>0.041708</td>\n",
       "    </tr>\n",
       "    <tr>\n",
       "      <td>4</td>\n",
       "      <td>2016-11-17 19:08:46</td>\n",
       "      <td>42</td>\n",
       "      <td>0.024002</td>\n",
       "      <td>69</td>\n",
       "      <td>48632</td>\n",
       "      <td>0.016347</td>\n",
       "      <td>0</td>\n",
       "      <td>0</td>\n",
       "      <td>24</td>\n",
       "      <td>0.041706</td>\n",
       "    </tr>\n",
       "    <tr>\n",
       "      <td>...</td>\n",
       "      <td>...</td>\n",
       "      <td>...</td>\n",
       "      <td>...</td>\n",
       "      <td>...</td>\n",
       "      <td>...</td>\n",
       "      <td>...</td>\n",
       "      <td>...</td>\n",
       "      <td>...</td>\n",
       "      <td>...</td>\n",
       "      <td>...</td>\n",
       "    </tr>\n",
       "    <tr>\n",
       "      <td>37031</td>\n",
       "      <td>2016-11-18 07:09:46</td>\n",
       "      <td>37</td>\n",
       "      <td>0.025945</td>\n",
       "      <td>230</td>\n",
       "      <td>113536</td>\n",
       "      <td>0.004696</td>\n",
       "      <td>0</td>\n",
       "      <td>0</td>\n",
       "      <td>24</td>\n",
       "      <td>0.041708</td>\n",
       "    </tr>\n",
       "    <tr>\n",
       "      <td>37032</td>\n",
       "      <td>2016-11-18 07:09:47</td>\n",
       "      <td>42</td>\n",
       "      <td>0.025147</td>\n",
       "      <td>211</td>\n",
       "      <td>113520</td>\n",
       "      <td>0.004665</td>\n",
       "      <td>0</td>\n",
       "      <td>0</td>\n",
       "      <td>24</td>\n",
       "      <td>0.041707</td>\n",
       "    </tr>\n",
       "    <tr>\n",
       "      <td>37033</td>\n",
       "      <td>2016-11-18 07:09:48</td>\n",
       "      <td>42</td>\n",
       "      <td>0.023425</td>\n",
       "      <td>156</td>\n",
       "      <td>97280</td>\n",
       "      <td>0.006463</td>\n",
       "      <td>0</td>\n",
       "      <td>0</td>\n",
       "      <td>24</td>\n",
       "      <td>0.041711</td>\n",
       "    </tr>\n",
       "    <tr>\n",
       "      <td>37034</td>\n",
       "      <td>2016-11-18 07:09:49</td>\n",
       "      <td>43</td>\n",
       "      <td>0.022346</td>\n",
       "      <td>182</td>\n",
       "      <td>89208</td>\n",
       "      <td>0.005535</td>\n",
       "      <td>0</td>\n",
       "      <td>0</td>\n",
       "      <td>24</td>\n",
       "      <td>0.041708</td>\n",
       "    </tr>\n",
       "    <tr>\n",
       "      <td>37035</td>\n",
       "      <td>2016-11-18 07:09:50</td>\n",
       "      <td>42</td>\n",
       "      <td>0.025122</td>\n",
       "      <td>137</td>\n",
       "      <td>89168</td>\n",
       "      <td>0.007181</td>\n",
       "      <td>0</td>\n",
       "      <td>0</td>\n",
       "      <td>24</td>\n",
       "      <td>0.041708</td>\n",
       "    </tr>\n",
       "  </tbody>\n",
       "</table>\n",
       "<p>37036 rows × 10 columns</p>\n",
       "</div>"
      ],
      "text/plain": [
       "                 TimeStamp  noAudioPlayed  avgInterAudioPlayedDelay  \\\n",
       "0      2016-11-17 19:08:42             84                  0.014553   \n",
       "1      2016-11-17 19:08:43             42                  0.024508   \n",
       "2      2016-11-17 19:08:44             42                  0.024569   \n",
       "3      2016-11-17 19:08:45             48                  0.021000   \n",
       "4      2016-11-17 19:08:46             42                  0.024002   \n",
       "...                    ...            ...                       ...   \n",
       "37031  2016-11-18 07:09:46             37                  0.025945   \n",
       "37032  2016-11-18 07:09:47             42                  0.025147   \n",
       "37033  2016-11-18 07:09:48             42                  0.023425   \n",
       "37034  2016-11-18 07:09:49             43                  0.022346   \n",
       "37035  2016-11-18 07:09:50             42                  0.025122   \n",
       "\n",
       "       NetReadOperations  NetReadBytes  NetReadAvgDelay  noAudioLost  \\\n",
       "0                   2695       1880476         0.000606            0   \n",
       "1                    711        510624         0.001364            0   \n",
       "2                    281        162152         0.003416            0   \n",
       "3                    118         81056         0.007932            0   \n",
       "4                     69         48632         0.016347            0   \n",
       "...                  ...           ...              ...          ...   \n",
       "37031                230        113536         0.004696            0   \n",
       "37032                211        113520         0.004665            0   \n",
       "37033                156         97280         0.006463            0   \n",
       "37034                182         89208         0.005535            0   \n",
       "37035                137         89168         0.007181            0   \n",
       "\n",
       "       noAudioLate  DispFrames  AvgInterDispDelay  \n",
       "0                0          23           0.070138  \n",
       "1                0          24           0.041706  \n",
       "2                0          24           0.041708  \n",
       "3                0          24           0.041708  \n",
       "4                0          24           0.041706  \n",
       "...            ...         ...                ...  \n",
       "37031            0          24           0.041708  \n",
       "37032            0          24           0.041707  \n",
       "37033            0          24           0.041711  \n",
       "37034            0          24           0.041708  \n",
       "37035            0          24           0.041708  \n",
       "\n",
       "[37036 rows x 10 columns]"
      ]
     },
     "execution_count": 4,
     "metadata": {},
     "output_type": "execute_result"
    }
   ],
   "source": [
    "Y"
   ]
  },
  {
   "cell_type": "code",
   "execution_count": 5,
   "metadata": {},
   "outputs": [],
   "source": [
    "numpyX = X.drop(['TimeStamp'], axis=1).copy().to_numpy() #remove timestamp\n",
    "numpyY = Y.drop(['TimeStamp'], axis=1).copy().to_numpy()"
   ]
  },
  {
   "cell_type": "code",
   "execution_count": 6,
   "metadata": {},
   "outputs": [
    {
     "data": {
      "text/plain": [
       "array([[4.00000e-02, 1.30000e-01, 1.30000e-01, ..., 5.90000e+01,\n",
       "        8.58000e+02, 1.55934e+05],\n",
       "       [8.00000e-02, 1.70000e-01, 0.00000e+00, ..., 2.90000e+01,\n",
       "        6.54000e+02, 7.43140e+04],\n",
       "       [8.00000e-02, 2.10000e-01, 4.00000e-02, ..., 2.80000e+01,\n",
       "        7.26000e+02, 7.13520e+04],\n",
       "       ...,\n",
       "       [8.00000e-02, 2.50000e-01, 4.00000e-02, ..., 1.15000e+02,\n",
       "        8.90000e+03, 1.87074e+05],\n",
       "       [1.20000e-01, 1.70000e-01, 0.00000e+00, ..., 4.00000e+01,\n",
       "        7.10000e+03, 3.99600e+03],\n",
       "       [1.30000e-01, 2.10000e-01, 4.00000e-02, ..., 0.00000e+00,\n",
       "        0.00000e+00, 0.00000e+00]])"
      ]
     },
     "execution_count": 6,
     "metadata": {},
     "output_type": "execute_result"
    }
   ],
   "source": [
    "numpyX"
   ]
  },
  {
   "cell_type": "code",
   "execution_count": 7,
   "metadata": {},
   "outputs": [],
   "source": [
    "newX = np.zeros((37036,16))\n",
    "for i in range(37036):\n",
    "    newX[i] = numpyX[i][0:16]"
   ]
  },
  {
   "cell_type": "code",
   "execution_count": 8,
   "metadata": {},
   "outputs": [
    {
     "data": {
      "text/plain": [
       "array([[4.0e-02, 1.3e-01, 1.3e-01, ..., 1.0e+02, 0.0e+00, 0.0e+00],\n",
       "       [8.0e-02, 1.7e-01, 0.0e+00, ..., 1.0e+02, 0.0e+00, 0.0e+00],\n",
       "       [8.0e-02, 2.1e-01, 4.0e-02, ..., 1.0e+02, 0.0e+00, 0.0e+00],\n",
       "       ...,\n",
       "       [8.0e-02, 2.5e-01, 4.0e-02, ..., 1.0e+02, 0.0e+00, 0.0e+00],\n",
       "       [1.2e-01, 1.7e-01, 0.0e+00, ..., 1.0e+02, 0.0e+00, 0.0e+00],\n",
       "       [1.3e-01, 2.1e-01, 4.0e-02, ..., 1.0e+02, 0.0e+00, 0.0e+00]])"
      ]
     },
     "execution_count": 8,
     "metadata": {},
     "output_type": "execute_result"
    }
   ],
   "source": [
    "newX"
   ]
  },
  {
   "cell_type": "code",
   "execution_count": 7,
   "metadata": {},
   "outputs": [],
   "source": [
    "newY = np.zeros((37036,1))\n",
    "for i in range(37036):\n",
    "    newY[i] = numpyY[i][7]"
   ]
  },
  {
   "cell_type": "code",
   "execution_count": 8,
   "metadata": {},
   "outputs": [
    {
     "data": {
      "text/plain": [
       "array([[23.],\n",
       "       [24.],\n",
       "       [24.],\n",
       "       ...,\n",
       "       [24.],\n",
       "       [24.],\n",
       "       [24.]])"
      ]
     },
     "execution_count": 8,
     "metadata": {},
     "output_type": "execute_result"
    }
   ],
   "source": [
    "newY"
   ]
  },
  {
   "cell_type": "markdown",
   "metadata": {},
   "source": [
    "### Data pre-processing"
   ]
  },
  {
   "cell_type": "code",
   "execution_count": 9,
   "metadata": {},
   "outputs": [],
   "source": [
    "# standardization in samples\n",
    "def stdColumn(raw):\n",
    "    stdColumnX = np.zeros(raw.T.shape)\n",
    "    for i in range(raw.T.shape[0]):\n",
    "        stdColumnX[i] = preprocessing.scale(raw.T[i])\n",
    "    stdColumnX = stdColumnX.T\n",
    "    return stdColumnX"
   ]
  },
  {
   "cell_type": "code",
   "execution_count": 10,
   "metadata": {},
   "outputs": [
    {
     "name": "stderr",
     "output_type": "stream",
     "text": [
      "D:\\Anaconda\\lib\\site-packages\\sklearn\\preprocessing\\data.py:189: UserWarning: Numerical issues were encountered when scaling the data and might not be solved. The standard deviation of the data is probably very close to 0. \n",
      "  warnings.warn(\"Numerical issues were encountered \"\n",
      "D:\\Anaconda\\lib\\site-packages\\sklearn\\preprocessing\\data.py:189: UserWarning: Numerical issues were encountered when scaling the data and might not be solved. The standard deviation of the data is probably very close to 0. \n",
      "  warnings.warn(\"Numerical issues were encountered \"\n",
      "D:\\Anaconda\\lib\\site-packages\\sklearn\\preprocessing\\data.py:189: UserWarning: Numerical issues were encountered when scaling the data and might not be solved. The standard deviation of the data is probably very close to 0. \n",
      "  warnings.warn(\"Numerical issues were encountered \"\n"
     ]
    }
   ],
   "source": [
    "newX = stdColumn(numpyX)"
   ]
  },
  {
   "cell_type": "code",
   "execution_count": 11,
   "metadata": {},
   "outputs": [
    {
     "name": "stdout",
     "output_type": "stream",
     "text": [
      "Standardization in column is correct.\n"
     ]
    }
   ],
   "source": [
    "#Verifycation of standardization\n",
    "stdCorrect = 1\n",
    "for i in newX.T:\n",
    "    mean = float(\"{:.4f}\".format(i.mean()))\n",
    "    std = float(\"{:.4f}\".format(i.std()))\n",
    "    if mean != 0 or std != 1:\n",
    "        stdCorrect = 0\n",
    "if stdCorrect:\n",
    "    print(\"Standardization in column is correct.\")"
   ]
  },
  {
   "cell_type": "markdown",
   "metadata": {},
   "source": [
    "### Outlier removal"
   ]
  },
  {
   "cell_type": "code",
   "execution_count": 12,
   "metadata": {},
   "outputs": [],
   "source": [
    "listDelete =[]\n",
    "thresholdNew = 57.5\n",
    "for i in range(newX.shape[0]):\n",
    "    if abs(np.max(newX[i])) > thresholdNew or abs(np.min(newX[i])) > thresholdNew:\n",
    "        listDelete.append(i)"
   ]
  },
  {
   "cell_type": "code",
   "execution_count": 13,
   "metadata": {},
   "outputs": [
    {
     "data": {
      "text/plain": [
       "0.010017280483853547"
      ]
     },
     "execution_count": 13,
     "metadata": {},
     "output_type": "execute_result"
    }
   ],
   "source": [
    "len(listDelete) / newX.shape[0] #1% data with largest absolute values are treated as outliers and removed"
   ]
  },
  {
   "cell_type": "code",
   "execution_count": 15,
   "metadata": {},
   "outputs": [],
   "source": [
    "dataSetX = np.delete(newX, listDelete, 0)\n",
    "dataSetY = np.delete(newY, listDelete, 0)"
   ]
  },
  {
   "cell_type": "markdown",
   "metadata": {},
   "source": [
    "### Feature selection"
   ]
  },
  {
   "cell_type": "code",
   "execution_count": 16,
   "metadata": {},
   "outputs": [],
   "source": [
    "def featureSelection(X, Y, numFeature):\n",
    "    clf = RandomForestRegressor(n_estimators=10)\n",
    "    clf.fit(X, Y)\n",
    "    model = SelectFromModel(clf, prefit=True, max_features = numFeature, threshold=-np.inf)\n",
    "    newX = model.transform(X)\n",
    "    return newX"
   ]
  },
  {
   "cell_type": "code",
   "execution_count": 19,
   "metadata": {},
   "outputs": [],
   "source": [
    "dataSetY = np.ravel(dataSetY)"
   ]
  },
  {
   "cell_type": "code",
   "execution_count": 20,
   "metadata": {},
   "outputs": [],
   "source": [
    "dataSetX = featureSelection(dataSetX, dataSetY, 16)"
   ]
  },
  {
   "cell_type": "markdown",
   "metadata": {},
   "source": [
    "### Data preparation"
   ]
  },
  {
   "cell_type": "code",
   "execution_count": 21,
   "metadata": {},
   "outputs": [],
   "source": [
    "def dataPrepare(step, l, h, X, Y):\n",
    "    interval = step - 1\n",
    "    trainsX, testsX, trainsY, testsY = train_test_split(X, Y, train_size = 0.7, shuffle = False)\n",
    "    length = l * interval + l + 1 + h * interval + h\n",
    "    numberTrain = trainsX.shape[0] - length + 1\n",
    "    numberTest = testsX.shape[0] - length + 1\n",
    "    trainX = np.zeros((numberTrain, 16*(l+1)))\n",
    "    testX = np.zeros((numberTest, 16*(l+1)))\n",
    "    trainY = np.zeros((numberTrain, 1*(h+1)))\n",
    "    testY = np.zeros((numberTest, 1*(h+1)))\n",
    "    trainX = assembleX(trainsX, trainX, interval, l)    \n",
    "    testX = assembleX(testsX, testX, interval, l) \n",
    "    trainY = assembleY(trainsY, trainY, interval, h, l)    \n",
    "    testY = assembleY(testsY, testY, interval, h, l)\n",
    "    return(trainX, testX, trainY, testY)"
   ]
  },
  {
   "cell_type": "code",
   "execution_count": 22,
   "metadata": {},
   "outputs": [],
   "source": [
    "def assembleX(arrays, newarrays, interval, numbers):\n",
    "    for i in range(newarrays.shape[0]):\n",
    "        newarray = arrays[i]\n",
    "        for j in range(numbers):\n",
    "            newarray = np.concatenate((newarray, arrays[i+(j+1)*interval+j+1]),axis=0)\n",
    "        newarrays[i] = newarray\n",
    "    return newarrays"
   ]
  },
  {
   "cell_type": "code",
   "execution_count": 23,
   "metadata": {},
   "outputs": [],
   "source": [
    "def assembleY(arrays, newarrays, interval, numbers, l):\n",
    "    for i in range(newarrays.shape[0]):\n",
    "        newarray = arrays[i+l*interval+l]\n",
    "        for j in range(numbers):\n",
    "            newarray = np.concatenate((newarray, arrays[i+l*interval+l+(j+1)*interval+j+1]),axis=0)\n",
    "        newarrays[i] = newarray\n",
    "    return newarrays"
   ]
  },
  {
   "cell_type": "code",
   "execution_count": 31,
   "metadata": {},
   "outputs": [],
   "source": [
    "newYs = np.zeros((dataSetY.shape[0], 1))"
   ]
  },
  {
   "cell_type": "code",
   "execution_count": 32,
   "metadata": {},
   "outputs": [],
   "source": [
    "for i in range(dataSetY.shape[0]):\n",
    "    newYs[i] = dataSetY[i]\n",
    "dataSetY = newYs"
   ]
  },
  {
   "cell_type": "code",
   "execution_count": 33,
   "metadata": {},
   "outputs": [],
   "source": [
    "trainX, testX, trainY, testY = dataPrepare(300, 2, 3, dataSetX, dataSetY)"
   ]
  },
  {
   "cell_type": "code",
   "execution_count": 41,
   "metadata": {},
   "outputs": [
    {
     "data": {
      "text/plain": [
       "array([[24., 24., 24., 24.],\n",
       "       [24., 24., 24., 24.],\n",
       "       [24., 24., 24., 24.],\n",
       "       ...,\n",
       "       [24., 24., 24., 24.],\n",
       "       [24., 24., 24., 24.],\n",
       "       [24., 24., 24., 24.]])"
      ]
     },
     "execution_count": 41,
     "metadata": {},
     "output_type": "execute_result"
    }
   ],
   "source": [
    "testY"
   ]
  },
  {
   "cell_type": "markdown",
   "metadata": {},
   "source": [
    "### Linear forecasting"
   ]
  },
  {
   "cell_type": "code",
   "execution_count": 42,
   "metadata": {},
   "outputs": [],
   "source": [
    "def calError(real, pred):\n",
    "    return mean_absolute_error(pred, real)/real.mean()"
   ]
  },
  {
   "cell_type": "code",
   "execution_count": 43,
   "metadata": {},
   "outputs": [],
   "source": [
    "tableNMAE = np.zeros((11,11))"
   ]
  },
  {
   "cell_type": "code",
   "execution_count": 52,
   "metadata": {},
   "outputs": [],
   "source": [
    "for l in range(11):\n",
    "    for h in range(11):\n",
    "        trainX, testX, trainY, testY = dataPrepare(300, l, h, dataSetX, dataSetY)\n",
    "        linearPred = LinearRegression()\n",
    "        linearPred.fit(trainX, trainY)\n",
    "        predY = linearPred.predict(testX)\n",
    "        tableNMAE[l][h] = np.round(calError(testY, predY), 3)"
   ]
  },
  {
   "cell_type": "code",
   "execution_count": 47,
   "metadata": {},
   "outputs": [
    {
     "data": {
      "text/plain": [
       "array([[0.1032732 , 0.10860364, 0.11750069, 0.11999751, 0.11971586,\n",
       "        0.11982313, 0.12104889, 0.12331779, 0.12451531, 0.12405426,\n",
       "        0.12177678],\n",
       "       [0.10204454, 0.1052667 , 0.10729437, 0.10965877, 0.11274291,\n",
       "        0.11561399, 0.11756636, 0.11833916, 0.11812902, 0.11672156,\n",
       "        0.11514806],\n",
       "       [0.10716147, 0.10776366, 0.10989345, 0.11333708, 0.11616227,\n",
       "        0.11861802, 0.11962617, 0.11973292, 0.11851187, 0.1167272 ,\n",
       "        0.1152157 ],\n",
       "       [0.10811082, 0.11008955, 0.11312695, 0.11715004, 0.11965955,\n",
       "        0.1209573 , 0.12106569, 0.12013023, 0.11830637, 0.11676466,\n",
       "        0.11566658],\n",
       "       [0.11124731, 0.11357133, 0.1169824 , 0.12066949, 0.12152463,\n",
       "        0.12179328, 0.12087731, 0.11942726, 0.11857993, 0.1174782 ,\n",
       "        0.11677624],\n",
       "       [0.11407375, 0.11737829, 0.12049122, 0.12239963, 0.1217456 ,\n",
       "        0.12100087, 0.1197029 , 0.11927795, 0.11932822, 0.11863537,\n",
       "        0.11796439],\n",
       "       [0.11830634, 0.12142354, 0.12178692, 0.12201432, 0.12002633,\n",
       "        0.11907007, 0.11862451, 0.1197031 , 0.12023475, 0.11972636,\n",
       "        0.11936936],\n",
       "       [0.11963453, 0.12023558, 0.11910972, 0.11841278, 0.11703706,\n",
       "        0.1168719 , 0.11792937, 0.11958835, 0.12013206, 0.12001304,\n",
       "        0.1193957 ],\n",
       "       [0.11521886, 0.11499053, 0.11348051, 0.11371191, 0.11322439,\n",
       "        0.11479847, 0.11683651, 0.11907381, 0.12003137, 0.11975729,\n",
       "        0.11866329],\n",
       "       [0.10901001, 0.10949238, 0.10920822, 0.10991914, 0.11072549,\n",
       "        0.11347919, 0.11632434, 0.11917524, 0.12021355, 0.11964681,\n",
       "        0.11790627],\n",
       "       [0.10381232, 0.10651924, 0.1069315 , 0.10853667, 0.11052458,\n",
       "        0.11436017, 0.11808937, 0.12065076, 0.12114129, 0.11974711,\n",
       "        0.11775828]])"
      ]
     },
     "execution_count": 47,
     "metadata": {},
     "output_type": "execute_result"
    }
   ],
   "source": [
    "tableNMAE"
   ]
  },
  {
   "cell_type": "code",
   "execution_count": 51,
   "metadata": {},
   "outputs": [
    {
     "data": {
      "image/png": "[encoded data removed]",
      "text/plain": [
       "<Figure size 864x576 with 1 Axes>"
      ]
     },
     "metadata": {
      "needs_background": "light"
     },
     "output_type": "display_data"
    }
   ],
   "source": [
    "figure(figsize=(12, 8))\n",
    "valuesH = np.arange(11)\n",
    "for i in range(11):\n",
    "    plt.plot(valuesH, tableNMAE[i], '-o', label = str(i))\n",
    "plt.xlabel('h values')\n",
    "plt.ylabel('Normalized Mean Absolute Error')\n",
    "plt.legend()\n",
    "plt.title('NMAE of different forecasting sets')\n",
    "plt.grid()\n",
    "plt.grid(axis='x')\n",
    "plt.show()"
   ]
  }
 ],
 "metadata": {
  "kernelspec": {
   "display_name": "Python 3",
   "language": "python",
   "name": "python3"
  },
  "language_info": {
   "codemirror_mode": {
    "name": "ipython",
    "version": 3
   },
   "file_extension": ".py",
   "mimetype": "text/x-python",
   "name": "python",
   "nbconvert_exporter": "python",
   "pygments_lexer": "ipython3",
   "version": "3.7.4"
  }
 },
 "nbformat": 4,
 "nbformat_minor": 2
}
